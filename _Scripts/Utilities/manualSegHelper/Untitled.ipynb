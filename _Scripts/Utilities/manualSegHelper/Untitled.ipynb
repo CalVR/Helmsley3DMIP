{
 "cells": [
  {
   "cell_type": "code",
   "execution_count": 1,
   "metadata": {},
   "outputs": [],
   "source": [
    "import numpy as np\n",
    "import png\n",
    "import pydicom\n",
    "import os\n",
    "from os import listdir\n",
    "from os.path import isfile, join\n",
    "import shutil\n",
    "import math\n"
   ]
  },
  {
   "cell_type": "code",
   "execution_count": 7,
   "metadata": {},
   "outputs": [],
   "source": [
    "def sampleDicomData (dicomPath:str, outputPath:str, sampleRate:float):\n",
    "    all_dcms = [pydicom.read_file(dicomPath + '/' + f) for f in listdir(input_folder_path) if isfile(join(input_folder_path,f)) if f.endswith(\".dcm\")]\n",
    "    all_dcms.sort(key = lambda x: int(x[0x20, 0x32][1]))\n",
    "    dcm_count = 0\n",
    "\n",
    "    if len(all_dcms) == 0:\n",
    "        print (\"No dcm files found in\", dicomPath, \". Abort program.\")\n",
    "        exit()\n",
    "    \n",
    "    if(sampleRate <= 0 or sampleRate > 1):\n",
    "        print(\"Sample rate must between 0 and 1. Abort program.\")\n",
    "    \n",
    "    sampleStep = math.floor(1/sampleRate)\n",
    "    sampledData = all_dcms[::sampleStep]\n",
    "    print(\"Sampling\", len(sampledData), \"dicom images.\")\n",
    "    name_counter = 0\n",
    "    \n",
    "    for dicom in sampledData:\n",
    "        pydicom.filewriter.dcmwrite(outputPath + '/' + str(name_counter)+'.dcm', dicom)\n",
    "        name_counter += 1\n",
    "    "
   ]
  },
  {
   "cell_type": "code",
   "execution_count": null,
   "metadata": {},
   "outputs": [],
   "source": [
    "def creatTrainingData ()"
   ]
  },
  {
   "cell_type": "code",
   "execution_count": 9,
   "metadata": {},
   "outputs": [
    {
     "name": "stdout",
     "output_type": "stream",
     "text": [
      "Sampling 48 dicom images.\n"
     ]
    }
   ],
   "source": [
    "input_folder_path = \"./toSegment\"\n",
    "sampled_dicom_folder_path = \"./sampledDataset\"\n",
    "user_segmentation_folder_path = \"./sampledDataset\"\n",
    "systemTempPath = \"./tmp\"\n",
    "\n",
    "sampleDicomData(input_folder_path, sampled_dicom_folder_path, 0.3)\n",
    "shutil.rmtree(systemTempPath)"
   ]
  },
  {
   "cell_type": "code",
   "execution_count": 20,
   "metadata": {},
   "outputs": [
    {
     "name": "stdout",
     "output_type": "stream",
     "text": [
      "Successfully created the directory ./tmp \n",
      "Successfully created the directory ./tmp/trainingImage \n",
      "\n",
      " [ Done! Converted 4 images ]\n"
     ]
    }
   ],
   "source": [
    "systemTempPath = \"./tmp\"\n",
    "try:\n",
    "    os.mkdir(systemTempPath)\n",
    "except OSError:\n",
    "    print (\"Creation of the directory %s failed\" % systemTempPath)\n",
    "else:\n",
    "    print (\"Successfully created the directory %s \" % systemTempPath)\n",
    "\n",
    "trainingImagePath = \"./tmp/trainingImage\"\n",
    "try:\n",
    "    os.mkdir(trainingImagePath)\n",
    "except OSError:\n",
    "    print (\"Creation of the directory %s failed\" % trainingImagePath)\n",
    "else:\n",
    "    print (\"Successfully created the directory %s \" % trainingImagePath)\n",
    "\n",
    "dcm_count = 0\n",
    "\n",
    "for dcm in all_dcms[::40]:\n",
    "    \n",
    "    curr_progress = dcm_count * 1.0 / len(all_dcms)\n",
    "\n",
    "    # dcm_path = input_folder_path + \"/\" + dcm\n",
    "    ds = dcm\n",
    "\n",
    "    shape = ds.pixel_array.shape\n",
    "\n",
    "\n",
    "    # Convert to float to avoid overflow or underflow losses.\n",
    "    image_2d = ds.pixel_array.astype(float)\n",
    "\n",
    "    # Rescaling grey scale between 0-255\n",
    "    image_2d_scaled = (np.maximum(image_2d,0) / image_2d.max()) * 255.0\n",
    "\n",
    "    # Convert to uint\n",
    "    image_2d_scaled = np.uint8(image_2d_scaled)\n",
    "\n",
    "    output_name = trainingImagepath + \"/\" + str(dcm_count) + \".png\"\n",
    "\n",
    "    # Write the PNG file\n",
    "    with open(output_name, 'wb') as png_file:\n",
    "        w = png.Writer(shape[1], shape[0], greyscale=True)\n",
    "        w.write(png_file, image_2d_scaled)\n",
    "    \n",
    "    dcm_count += 1\n",
    "\n",
    "print (\"\\n [ Done! Converted \"+ str(dcm_count) + \" images ]\")\n",
    "\n"
   ]
  },
  {
   "cell_type": "code",
   "execution_count": 19,
   "metadata": {},
   "outputs": [],
   "source": [
    "shutil.rmtree(systemTempPath)"
   ]
  },
  {
   "cell_type": "code",
   "execution_count": null,
   "metadata": {},
   "outputs": [],
   "source": []
  }
 ],
 "metadata": {
  "kernelspec": {
   "display_name": "Python 3",
   "language": "python",
   "name": "python3"
  },
  "language_info": {
   "codemirror_mode": {
    "name": "ipython",
    "version": 3
   },
   "file_extension": ".py",
   "mimetype": "text/x-python",
   "name": "python",
   "nbconvert_exporter": "python",
   "pygments_lexer": "ipython3",
   "version": "3.6.8"
  }
 },
 "nbformat": 4,
 "nbformat_minor": 2
}
