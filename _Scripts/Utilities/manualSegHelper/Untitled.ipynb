{
 "cells": [
  {
   "cell_type": "code",
   "execution_count": 1,
   "metadata": {},
   "outputs": [
    {
     "name": "stderr",
     "output_type": "stream",
     "text": [
      "WARNING: Logging before flag parsing goes to stderr.\n",
      "W0829 13:54:43.503608 14304 deprecation_wrapper.py:119] From C:\\Users\\Zifeng Li\\Desktop\\HelmsleyDocker\\Helmsley3DMIP\\_Scripts\\Utilities\\manualSegHelper\\test_model.py:8: The name tf.keras.layers.CuDNNGRU is deprecated. Please use tf.compat.v1.keras.layers.CuDNNGRU instead.\n",
      "\n",
      "W0829 13:54:43.506581 14304 deprecation_wrapper.py:119] From C:\\Users\\Zifeng Li\\Desktop\\HelmsleyDocker\\Helmsley3DMIP\\_Scripts\\Utilities\\manualSegHelper\\test_model.py:8: The name tf.keras.layers.CuDNNLSTM is deprecated. Please use tf.compat.v1.keras.layers.CuDNNLSTM instead.\n",
      "\n"
     ]
    }
   ],
   "source": [
    "from segHelperLib import *"
   ]
  },
  {
   "cell_type": "code",
   "execution_count": 2,
   "metadata": {},
   "outputs": [
    {
     "name": "stdout",
     "output_type": "stream",
     "text": [
      "Deleting old training files and temp files.\n",
      "Deleting directory ./sampledLabel failed\n",
      "Successfully created the directory ./sampledDataset \n",
      "Sampling 39 dicom images.\n",
      "['.\\\\mri_label_2017_multilabel\\\\0.png', '.\\\\mri_label_2017_multilabel\\\\1.png', '.\\\\mri_label_2017_multilabel\\\\10.png', '.\\\\mri_label_2017_multilabel\\\\100.png', '.\\\\mri_label_2017_multilabel\\\\101.png', '.\\\\mri_label_2017_multilabel\\\\102.png', '.\\\\mri_label_2017_multilabel\\\\103.png', '.\\\\mri_label_2017_multilabel\\\\104.png', '.\\\\mri_label_2017_multilabel\\\\105.png', '.\\\\mri_label_2017_multilabel\\\\106.png', '.\\\\mri_label_2017_multilabel\\\\107.png', '.\\\\mri_label_2017_multilabel\\\\108.png', '.\\\\mri_label_2017_multilabel\\\\109.png', '.\\\\mri_label_2017_multilabel\\\\11.png', '.\\\\mri_label_2017_multilabel\\\\110.png', '.\\\\mri_label_2017_multilabel\\\\111.png', '.\\\\mri_label_2017_multilabel\\\\112.png', '.\\\\mri_label_2017_multilabel\\\\113.png', '.\\\\mri_label_2017_multilabel\\\\114.png', '.\\\\mri_label_2017_multilabel\\\\115.png', '.\\\\mri_label_2017_multilabel\\\\12.png', '.\\\\mri_label_2017_multilabel\\\\13.png', '.\\\\mri_label_2017_multilabel\\\\14.png', '.\\\\mri_label_2017_multilabel\\\\15.png', '.\\\\mri_label_2017_multilabel\\\\16.png', '.\\\\mri_label_2017_multilabel\\\\17.png', '.\\\\mri_label_2017_multilabel\\\\18.png', '.\\\\mri_label_2017_multilabel\\\\19.png', '.\\\\mri_label_2017_multilabel\\\\2.png', '.\\\\mri_label_2017_multilabel\\\\20.png', '.\\\\mri_label_2017_multilabel\\\\21.png', '.\\\\mri_label_2017_multilabel\\\\22.png', '.\\\\mri_label_2017_multilabel\\\\23.png', '.\\\\mri_label_2017_multilabel\\\\24.png', '.\\\\mri_label_2017_multilabel\\\\25.png', '.\\\\mri_label_2017_multilabel\\\\26.png', '.\\\\mri_label_2017_multilabel\\\\27.png', '.\\\\mri_label_2017_multilabel\\\\28.png', '.\\\\mri_label_2017_multilabel\\\\29.png', '.\\\\mri_label_2017_multilabel\\\\3.png', '.\\\\mri_label_2017_multilabel\\\\30.png', '.\\\\mri_label_2017_multilabel\\\\31.png', '.\\\\mri_label_2017_multilabel\\\\32.png', '.\\\\mri_label_2017_multilabel\\\\33.png', '.\\\\mri_label_2017_multilabel\\\\34.png', '.\\\\mri_label_2017_multilabel\\\\35.png', '.\\\\mri_label_2017_multilabel\\\\36.png', '.\\\\mri_label_2017_multilabel\\\\37.png', '.\\\\mri_label_2017_multilabel\\\\38.png', '.\\\\mri_label_2017_multilabel\\\\39.png', '.\\\\mri_label_2017_multilabel\\\\4.png', '.\\\\mri_label_2017_multilabel\\\\40.png', '.\\\\mri_label_2017_multilabel\\\\41.png', '.\\\\mri_label_2017_multilabel\\\\42.png', '.\\\\mri_label_2017_multilabel\\\\43.png', '.\\\\mri_label_2017_multilabel\\\\44.png', '.\\\\mri_label_2017_multilabel\\\\45.png', '.\\\\mri_label_2017_multilabel\\\\46.png', '.\\\\mri_label_2017_multilabel\\\\47.png', '.\\\\mri_label_2017_multilabel\\\\48.png', '.\\\\mri_label_2017_multilabel\\\\49.png', '.\\\\mri_label_2017_multilabel\\\\5.png', '.\\\\mri_label_2017_multilabel\\\\50.png', '.\\\\mri_label_2017_multilabel\\\\51.png', '.\\\\mri_label_2017_multilabel\\\\52.png', '.\\\\mri_label_2017_multilabel\\\\53.png', '.\\\\mri_label_2017_multilabel\\\\54.png', '.\\\\mri_label_2017_multilabel\\\\55.png', '.\\\\mri_label_2017_multilabel\\\\56.png', '.\\\\mri_label_2017_multilabel\\\\57.png', '.\\\\mri_label_2017_multilabel\\\\58.png', '.\\\\mri_label_2017_multilabel\\\\59.png', '.\\\\mri_label_2017_multilabel\\\\6.png', '.\\\\mri_label_2017_multilabel\\\\60.png', '.\\\\mri_label_2017_multilabel\\\\61.png', '.\\\\mri_label_2017_multilabel\\\\62.png', '.\\\\mri_label_2017_multilabel\\\\63.png', '.\\\\mri_label_2017_multilabel\\\\64.png', '.\\\\mri_label_2017_multilabel\\\\65.png', '.\\\\mri_label_2017_multilabel\\\\66.png', '.\\\\mri_label_2017_multilabel\\\\67.png', '.\\\\mri_label_2017_multilabel\\\\68.png', '.\\\\mri_label_2017_multilabel\\\\69.png', '.\\\\mri_label_2017_multilabel\\\\7.png', '.\\\\mri_label_2017_multilabel\\\\70.png', '.\\\\mri_label_2017_multilabel\\\\71.png', '.\\\\mri_label_2017_multilabel\\\\72.png', '.\\\\mri_label_2017_multilabel\\\\73.png', '.\\\\mri_label_2017_multilabel\\\\74.png', '.\\\\mri_label_2017_multilabel\\\\75.png', '.\\\\mri_label_2017_multilabel\\\\76.png', '.\\\\mri_label_2017_multilabel\\\\77.png', '.\\\\mri_label_2017_multilabel\\\\78.png', '.\\\\mri_label_2017_multilabel\\\\79.png', '.\\\\mri_label_2017_multilabel\\\\8.png', '.\\\\mri_label_2017_multilabel\\\\80.png', '.\\\\mri_label_2017_multilabel\\\\81.png', '.\\\\mri_label_2017_multilabel\\\\82.png', '.\\\\mri_label_2017_multilabel\\\\83.png', '.\\\\mri_label_2017_multilabel\\\\84.png', '.\\\\mri_label_2017_multilabel\\\\85.png', '.\\\\mri_label_2017_multilabel\\\\86.png', '.\\\\mri_label_2017_multilabel\\\\87.png', '.\\\\mri_label_2017_multilabel\\\\88.png', '.\\\\mri_label_2017_multilabel\\\\89.png', '.\\\\mri_label_2017_multilabel\\\\9.png', '.\\\\mri_label_2017_multilabel\\\\90.png', '.\\\\mri_label_2017_multilabel\\\\91.png', '.\\\\mri_label_2017_multilabel\\\\92.png', '.\\\\mri_label_2017_multilabel\\\\93.png', '.\\\\mri_label_2017_multilabel\\\\94.png', '.\\\\mri_label_2017_multilabel\\\\95.png', '.\\\\mri_label_2017_multilabel\\\\96.png', '.\\\\mri_label_2017_multilabel\\\\97.png', '.\\\\mri_label_2017_multilabel\\\\98.png', '.\\\\mri_label_2017_multilabel\\\\99.png']\n",
      "[['', '', 'mri_label_2017_multilabel', '0', 'png'], ['', '', 'mri_label_2017_multilabel', '1', 'png'], ['', '', 'mri_label_2017_multilabel', '10', 'png'], ['', '', 'mri_label_2017_multilabel', '100', 'png'], ['', '', 'mri_label_2017_multilabel', '101', 'png'], ['', '', 'mri_label_2017_multilabel', '102', 'png'], ['', '', 'mri_label_2017_multilabel', '103', 'png'], ['', '', 'mri_label_2017_multilabel', '104', 'png'], ['', '', 'mri_label_2017_multilabel', '105', 'png'], ['', '', 'mri_label_2017_multilabel', '106', 'png'], ['', '', 'mri_label_2017_multilabel', '107', 'png'], ['', '', 'mri_label_2017_multilabel', '108', 'png'], ['', '', 'mri_label_2017_multilabel', '109', 'png'], ['', '', 'mri_label_2017_multilabel', '11', 'png'], ['', '', 'mri_label_2017_multilabel', '110', 'png'], ['', '', 'mri_label_2017_multilabel', '111', 'png'], ['', '', 'mri_label_2017_multilabel', '112', 'png'], ['', '', 'mri_label_2017_multilabel', '113', 'png'], ['', '', 'mri_label_2017_multilabel', '114', 'png'], ['', '', 'mri_label_2017_multilabel', '115', 'png'], ['', '', 'mri_label_2017_multilabel', '12', 'png'], ['', '', 'mri_label_2017_multilabel', '13', 'png'], ['', '', 'mri_label_2017_multilabel', '14', 'png'], ['', '', 'mri_label_2017_multilabel', '15', 'png'], ['', '', 'mri_label_2017_multilabel', '16', 'png'], ['', '', 'mri_label_2017_multilabel', '17', 'png'], ['', '', 'mri_label_2017_multilabel', '18', 'png'], ['', '', 'mri_label_2017_multilabel', '19', 'png'], ['', '', 'mri_label_2017_multilabel', '2', 'png'], ['', '', 'mri_label_2017_multilabel', '20', 'png'], ['', '', 'mri_label_2017_multilabel', '21', 'png'], ['', '', 'mri_label_2017_multilabel', '22', 'png'], ['', '', 'mri_label_2017_multilabel', '23', 'png'], ['', '', 'mri_label_2017_multilabel', '24', 'png'], ['', '', 'mri_label_2017_multilabel', '25', 'png'], ['', '', 'mri_label_2017_multilabel', '26', 'png'], ['', '', 'mri_label_2017_multilabel', '27', 'png'], ['', '', 'mri_label_2017_multilabel', '28', 'png'], ['', '', 'mri_label_2017_multilabel', '29', 'png'], ['', '', 'mri_label_2017_multilabel', '3', 'png'], ['', '', 'mri_label_2017_multilabel', '30', 'png'], ['', '', 'mri_label_2017_multilabel', '31', 'png'], ['', '', 'mri_label_2017_multilabel', '32', 'png'], ['', '', 'mri_label_2017_multilabel', '33', 'png'], ['', '', 'mri_label_2017_multilabel', '34', 'png'], ['', '', 'mri_label_2017_multilabel', '35', 'png'], ['', '', 'mri_label_2017_multilabel', '36', 'png'], ['', '', 'mri_label_2017_multilabel', '37', 'png'], ['', '', 'mri_label_2017_multilabel', '38', 'png'], ['', '', 'mri_label_2017_multilabel', '39', 'png'], ['', '', 'mri_label_2017_multilabel', '4', 'png'], ['', '', 'mri_label_2017_multilabel', '40', 'png'], ['', '', 'mri_label_2017_multilabel', '41', 'png'], ['', '', 'mri_label_2017_multilabel', '42', 'png'], ['', '', 'mri_label_2017_multilabel', '43', 'png'], ['', '', 'mri_label_2017_multilabel', '44', 'png'], ['', '', 'mri_label_2017_multilabel', '45', 'png'], ['', '', 'mri_label_2017_multilabel', '46', 'png'], ['', '', 'mri_label_2017_multilabel', '47', 'png'], ['', '', 'mri_label_2017_multilabel', '48', 'png'], ['', '', 'mri_label_2017_multilabel', '49', 'png'], ['', '', 'mri_label_2017_multilabel', '5', 'png'], ['', '', 'mri_label_2017_multilabel', '50', 'png'], ['', '', 'mri_label_2017_multilabel', '51', 'png'], ['', '', 'mri_label_2017_multilabel', '52', 'png'], ['', '', 'mri_label_2017_multilabel', '53', 'png'], ['', '', 'mri_label_2017_multilabel', '54', 'png'], ['', '', 'mri_label_2017_multilabel', '55', 'png'], ['', '', 'mri_label_2017_multilabel', '56', 'png'], ['', '', 'mri_label_2017_multilabel', '57', 'png'], ['', '', 'mri_label_2017_multilabel', '58', 'png'], ['', '', 'mri_label_2017_multilabel', '59', 'png'], ['', '', 'mri_label_2017_multilabel', '6', 'png'], ['', '', 'mri_label_2017_multilabel', '60', 'png'], ['', '', 'mri_label_2017_multilabel', '61', 'png'], ['', '', 'mri_label_2017_multilabel', '62', 'png'], ['', '', 'mri_label_2017_multilabel', '63', 'png'], ['', '', 'mri_label_2017_multilabel', '64', 'png'], ['', '', 'mri_label_2017_multilabel', '65', 'png'], ['', '', 'mri_label_2017_multilabel', '66', 'png'], ['', '', 'mri_label_2017_multilabel', '67', 'png'], ['', '', 'mri_label_2017_multilabel', '68', 'png'], ['', '', 'mri_label_2017_multilabel', '69', 'png'], ['', '', 'mri_label_2017_multilabel', '7', 'png'], ['', '', 'mri_label_2017_multilabel', '70', 'png'], ['', '', 'mri_label_2017_multilabel', '71', 'png'], ['', '', 'mri_label_2017_multilabel', '72', 'png'], ['', '', 'mri_label_2017_multilabel', '73', 'png'], ['', '', 'mri_label_2017_multilabel', '74', 'png'], ['', '', 'mri_label_2017_multilabel', '75', 'png'], ['', '', 'mri_label_2017_multilabel', '76', 'png'], ['', '', 'mri_label_2017_multilabel', '77', 'png'], ['', '', 'mri_label_2017_multilabel', '78', 'png'], ['', '', 'mri_label_2017_multilabel', '79', 'png'], ['', '', 'mri_label_2017_multilabel', '8', 'png'], ['', '', 'mri_label_2017_multilabel', '80', 'png'], ['', '', 'mri_label_2017_multilabel', '81', 'png'], ['', '', 'mri_label_2017_multilabel', '82', 'png'], ['', '', 'mri_label_2017_multilabel', '83', 'png'], ['', '', 'mri_label_2017_multilabel', '84', 'png'], ['', '', 'mri_label_2017_multilabel', '85', 'png'], ['', '', 'mri_label_2017_multilabel', '86', 'png'], ['', '', 'mri_label_2017_multilabel', '87', 'png'], ['', '', 'mri_label_2017_multilabel', '88', 'png'], ['', '', 'mri_label_2017_multilabel', '89', 'png'], ['', '', 'mri_label_2017_multilabel', '9', 'png'], ['', '', 'mri_label_2017_multilabel', '90', 'png'], ['', '', 'mri_label_2017_multilabel', '91', 'png'], ['', '', 'mri_label_2017_multilabel', '92', 'png'], ['', '', 'mri_label_2017_multilabel', '93', 'png'], ['', '', 'mri_label_2017_multilabel', '94', 'png'], ['', '', 'mri_label_2017_multilabel', '95', 'png'], ['', '', 'mri_label_2017_multilabel', '96', 'png'], ['', '', 'mri_label_2017_multilabel', '97', 'png'], ['', '', 'mri_label_2017_multilabel', '98', 'png'], ['', '', 'mri_label_2017_multilabel', '99', 'png']]\n"
     ]
    },
    {
     "name": "stdout",
     "output_type": "stream",
     "text": [
      "Creation of the directory ./sampledPng failed\n",
      "Sampling 39 png images.\n",
      "Creating training PNG files.\n",
      "Successfully created the directory ./tmp \n",
      "Successfully created the directory ./tmp/trainingImage \n",
      "Successfully created the directory ./tmp/trainingMask \n",
      "['.\\\\sampledPng\\\\0.png', '.\\\\sampledPng\\\\1.png', '.\\\\sampledPng\\\\10.png', '.\\\\sampledPng\\\\11.png', '.\\\\sampledPng\\\\12.png', '.\\\\sampledPng\\\\13.png', '.\\\\sampledPng\\\\14.png', '.\\\\sampledPng\\\\15.png', '.\\\\sampledPng\\\\16.png', '.\\\\sampledPng\\\\17.png', '.\\\\sampledPng\\\\18.png', '.\\\\sampledPng\\\\19.png', '.\\\\sampledPng\\\\2.png', '.\\\\sampledPng\\\\20.png', '.\\\\sampledPng\\\\21.png', '.\\\\sampledPng\\\\22.png', '.\\\\sampledPng\\\\23.png', '.\\\\sampledPng\\\\24.png', '.\\\\sampledPng\\\\25.png', '.\\\\sampledPng\\\\26.png', '.\\\\sampledPng\\\\27.png', '.\\\\sampledPng\\\\28.png', '.\\\\sampledPng\\\\29.png', '.\\\\sampledPng\\\\3.png', '.\\\\sampledPng\\\\30.png', '.\\\\sampledPng\\\\31.png', '.\\\\sampledPng\\\\32.png', '.\\\\sampledPng\\\\33.png', '.\\\\sampledPng\\\\34.png', '.\\\\sampledPng\\\\35.png', '.\\\\sampledPng\\\\36.png', '.\\\\sampledPng\\\\37.png', '.\\\\sampledPng\\\\38.png', '.\\\\sampledPng\\\\4.png', '.\\\\sampledPng\\\\5.png', '.\\\\sampledPng\\\\6.png', '.\\\\sampledPng\\\\7.png', '.\\\\sampledPng\\\\8.png', '.\\\\sampledPng\\\\9.png']\n",
      "[['', '', 'sampledPng', '0', 'png'], ['', '', 'sampledPng', '1', 'png'], ['', '', 'sampledPng', '10', 'png'], ['', '', 'sampledPng', '11', 'png'], ['', '', 'sampledPng', '12', 'png'], ['', '', 'sampledPng', '13', 'png'], ['', '', 'sampledPng', '14', 'png'], ['', '', 'sampledPng', '15', 'png'], ['', '', 'sampledPng', '16', 'png'], ['', '', 'sampledPng', '17', 'png'], ['', '', 'sampledPng', '18', 'png'], ['', '', 'sampledPng', '19', 'png'], ['', '', 'sampledPng', '2', 'png'], ['', '', 'sampledPng', '20', 'png'], ['', '', 'sampledPng', '21', 'png'], ['', '', 'sampledPng', '22', 'png'], ['', '', 'sampledPng', '23', 'png'], ['', '', 'sampledPng', '24', 'png'], ['', '', 'sampledPng', '25', 'png'], ['', '', 'sampledPng', '26', 'png'], ['', '', 'sampledPng', '27', 'png'], ['', '', 'sampledPng', '28', 'png'], ['', '', 'sampledPng', '29', 'png'], ['', '', 'sampledPng', '3', 'png'], ['', '', 'sampledPng', '30', 'png'], ['', '', 'sampledPng', '31', 'png'], ['', '', 'sampledPng', '32', 'png'], ['', '', 'sampledPng', '33', 'png'], ['', '', 'sampledPng', '34', 'png'], ['', '', 'sampledPng', '35', 'png'], ['', '', 'sampledPng', '36', 'png'], ['', '', 'sampledPng', '37', 'png'], ['', '', 'sampledPng', '38', 'png'], ['', '', 'sampledPng', '4', 'png'], ['', '', 'sampledPng', '5', 'png'], ['', '', 'sampledPng', '6', 'png'], ['', '', 'sampledPng', '7', 'png'], ['', '', 'sampledPng', '8', 'png'], ['', '', 'sampledPng', '9', 'png']]\n",
      "\n",
      " Done! Converted 39 images and masks.\n",
      "Creating testing PNG files.\n",
      "Successfully created the directory ./tmp/testingImage \n",
      "\n",
      " Done! Converted 116 images.\n"
     ]
    }
   ],
   "source": [
    "# Run this block to prepare all the training data\n",
    "pruneSystem()\n",
    "sampleDicomData(0.3)\n",
    "\n",
    "# This sample is for sample the already segmented mask files. The user will use Slicer to create the sampled labels instead\n",
    "samplePngData(0.3, \".\\mri_label_2017_multilabel\\*.png\", \"./sampledPng\")\n",
    "\n",
    "createTrainingData(maskDicomPath=\".\\sampledPng\\*.png\", usePng = True)\n",
    "createTestingData()"
   ]
  },
  {
   "cell_type": "code",
   "execution_count": null,
   "metadata": {},
   "outputs": [
    {
     "name": "stderr",
     "output_type": "stream",
     "text": [
      "W0829 13:54:49.100957 14304 deprecation.py:506] From C:\\Users\\Zifeng Li\\Anaconda3\\envs\\Helmsley3DMIP\\lib\\site-packages\\tensorflow\\python\\ops\\init_ops.py:1288: calling VarianceScaling.__init__ (from tensorflow.python.ops.init_ops) with dtype is deprecated and will be removed in a future version.\n",
      "Instructions for updating:\n",
      "Call initializer instance with the dtype argument instead of passing it to the constructor\n"
     ]
    },
    {
     "name": "stdout",
     "output_type": "stream",
     "text": [
      "[name: \"/device:CPU:0\"\n",
      "device_type: \"CPU\"\n",
      "memory_limit: 268435456\n",
      "locality {\n",
      "}\n",
      "incarnation: 7530473615226681313\n",
      ", name: \"/device:GPU:0\"\n",
      "device_type: \"GPU\"\n",
      "memory_limit: 6667611669\n",
      "locality {\n",
      "  bus_id: 1\n",
      "  links {\n",
      "  }\n",
      "}\n",
      "incarnation: 11624755377014580767\n",
      "physical_device_desc: \"device: 0, name: GeForce GTX 1080, pci bus id: 0000:01:00.0, compute capability: 6.1\"\n",
      "]\n"
     ]
    },
    {
     "name": "stderr",
     "output_type": "stream",
     "text": [
      "W0829 13:54:50.270960 14304 deprecation.py:323] From C:\\Users\\Zifeng Li\\Anaconda3\\envs\\Helmsley3DMIP\\lib\\site-packages\\tensorflow\\python\\ops\\nn_impl.py:180: add_dispatch_support.<locals>.wrapper (from tensorflow.python.ops.array_ops) is deprecated and will be removed in a future version.\n",
      "Instructions for updating:\n",
      "Use tf.where in 2.0, which has the same broadcast rule as np.where\n"
     ]
    },
    {
     "name": "stdout",
     "output_type": "stream",
     "text": [
      "Model: \"model\"\n",
      "__________________________________________________________________________________________________\n",
      "Layer (type)                    Output Shape         Param #     Connected to                     \n",
      "==================================================================================================\n",
      "input_1 (InputLayer)            [(None, 256, 256, 3) 0                                            \n",
      "__________________________________________________________________________________________________\n",
      "conv2d (Conv2D)                 (None, 256, 256, 64) 1792        input_1[0][0]                    \n",
      "__________________________________________________________________________________________________\n",
      "leaky_re_lu (LeakyReLU)         (None, 256, 256, 64) 0           conv2d[0][0]                     \n",
      "__________________________________________________________________________________________________\n",
      "batch_normalization (BatchNorma (None, 256, 256, 64) 256         leaky_re_lu[0][0]                \n",
      "__________________________________________________________________________________________________\n",
      "conv2d_1 (Conv2D)               (None, 256, 256, 64) 36928       batch_normalization[0][0]        \n",
      "__________________________________________________________________________________________________\n",
      "leaky_re_lu_1 (LeakyReLU)       (None, 256, 256, 64) 0           conv2d_1[0][0]                   \n",
      "__________________________________________________________________________________________________\n",
      "batch_normalization_1 (BatchNor (None, 256, 256, 64) 256         leaky_re_lu_1[0][0]              \n",
      "__________________________________________________________________________________________________\n",
      "max_pooling2d (MaxPooling2D)    (None, 128, 128, 64) 0           batch_normalization_1[0][0]      \n",
      "__________________________________________________________________________________________________\n",
      "conv2d_2 (Conv2D)               (None, 128, 128, 128 73856       max_pooling2d[0][0]              \n",
      "__________________________________________________________________________________________________\n",
      "leaky_re_lu_2 (LeakyReLU)       (None, 128, 128, 128 0           conv2d_2[0][0]                   \n",
      "__________________________________________________________________________________________________\n",
      "batch_normalization_2 (BatchNor (None, 128, 128, 128 512         leaky_re_lu_2[0][0]              \n",
      "__________________________________________________________________________________________________\n",
      "conv2d_3 (Conv2D)               (None, 128, 128, 128 147584      batch_normalization_2[0][0]      \n",
      "__________________________________________________________________________________________________\n",
      "leaky_re_lu_3 (LeakyReLU)       (None, 128, 128, 128 0           conv2d_3[0][0]                   \n",
      "__________________________________________________________________________________________________\n",
      "batch_normalization_3 (BatchNor (None, 128, 128, 128 512         leaky_re_lu_3[0][0]              \n",
      "__________________________________________________________________________________________________\n",
      "max_pooling2d_1 (MaxPooling2D)  (None, 64, 64, 128)  0           batch_normalization_3[0][0]      \n",
      "__________________________________________________________________________________________________\n",
      "conv2d_4 (Conv2D)               (None, 64, 64, 256)  295168      max_pooling2d_1[0][0]            \n",
      "__________________________________________________________________________________________________\n",
      "leaky_re_lu_4 (LeakyReLU)       (None, 64, 64, 256)  0           conv2d_4[0][0]                   \n",
      "__________________________________________________________________________________________________\n",
      "batch_normalization_4 (BatchNor (None, 64, 64, 256)  1024        leaky_re_lu_4[0][0]              \n",
      "__________________________________________________________________________________________________\n",
      "conv2d_5 (Conv2D)               (None, 64, 64, 256)  590080      batch_normalization_4[0][0]      \n",
      "__________________________________________________________________________________________________\n",
      "leaky_re_lu_5 (LeakyReLU)       (None, 64, 64, 256)  0           conv2d_5[0][0]                   \n",
      "__________________________________________________________________________________________________\n",
      "batch_normalization_5 (BatchNor (None, 64, 64, 256)  1024        leaky_re_lu_5[0][0]              \n",
      "__________________________________________________________________________________________________\n",
      "max_pooling2d_2 (MaxPooling2D)  (None, 32, 32, 256)  0           batch_normalization_5[0][0]      \n",
      "__________________________________________________________________________________________________\n",
      "conv2d_6 (Conv2D)               (None, 32, 32, 512)  1180160     max_pooling2d_2[0][0]            \n",
      "__________________________________________________________________________________________________\n",
      "leaky_re_lu_6 (LeakyReLU)       (None, 32, 32, 512)  0           conv2d_6[0][0]                   \n",
      "__________________________________________________________________________________________________\n",
      "batch_normalization_6 (BatchNor (None, 32, 32, 512)  2048        leaky_re_lu_6[0][0]              \n",
      "__________________________________________________________________________________________________\n",
      "conv2d_7 (Conv2D)               (None, 32, 32, 512)  2359808     batch_normalization_6[0][0]      \n",
      "__________________________________________________________________________________________________\n",
      "leaky_re_lu_7 (LeakyReLU)       (None, 32, 32, 512)  0           conv2d_7[0][0]                   \n",
      "__________________________________________________________________________________________________\n",
      "batch_normalization_7 (BatchNor (None, 32, 32, 512)  2048        leaky_re_lu_7[0][0]              \n",
      "__________________________________________________________________________________________________\n",
      "dropout (Dropout)               (None, 32, 32, 512)  0           batch_normalization_7[0][0]      \n",
      "__________________________________________________________________________________________________\n",
      "max_pooling2d_3 (MaxPooling2D)  (None, 16, 16, 512)  0           dropout[0][0]                    \n",
      "__________________________________________________________________________________________________\n",
      "conv2d_8 (Conv2D)               (None, 16, 16, 1024) 4719616     max_pooling2d_3[0][0]            \n",
      "__________________________________________________________________________________________________\n",
      "leaky_re_lu_8 (LeakyReLU)       (None, 16, 16, 1024) 0           conv2d_8[0][0]                   \n",
      "__________________________________________________________________________________________________\n",
      "batch_normalization_8 (BatchNor (None, 16, 16, 1024) 4096        leaky_re_lu_8[0][0]              \n",
      "__________________________________________________________________________________________________\n",
      "conv2d_9 (Conv2D)               (None, 16, 16, 1024) 9438208     batch_normalization_8[0][0]      \n",
      "__________________________________________________________________________________________________\n",
      "leaky_re_lu_9 (LeakyReLU)       (None, 16, 16, 1024) 0           conv2d_9[0][0]                   \n",
      "__________________________________________________________________________________________________\n",
      "batch_normalization_9 (BatchNor (None, 16, 16, 1024) 4096        leaky_re_lu_9[0][0]              \n",
      "__________________________________________________________________________________________________\n",
      "dropout_1 (Dropout)             (None, 16, 16, 1024) 0           batch_normalization_9[0][0]      \n",
      "__________________________________________________________________________________________________\n",
      "up_sampling2d (UpSampling2D)    (None, 32, 32, 1024) 0           dropout_1[0][0]                  \n",
      "__________________________________________________________________________________________________\n",
      "conv2d_10 (Conv2D)              (None, 32, 32, 512)  2097664     up_sampling2d[0][0]              \n",
      "__________________________________________________________________________________________________\n",
      "batch_normalization_10 (BatchNo (None, 32, 32, 512)  2048        conv2d_10[0][0]                  \n",
      "__________________________________________________________________________________________________\n",
      "concatenate (Concatenate)       (None, 32, 32, 1024) 0           dropout[0][0]                    \n",
      "                                                                 batch_normalization_10[0][0]     \n",
      "__________________________________________________________________________________________________\n",
      "conv2d_11 (Conv2D)              (None, 32, 32, 512)  4719104     concatenate[0][0]                \n",
      "__________________________________________________________________________________________________\n",
      "batch_normalization_11 (BatchNo (None, 32, 32, 512)  2048        conv2d_11[0][0]                  \n",
      "__________________________________________________________________________________________________\n",
      "conv2d_12 (Conv2D)              (None, 32, 32, 512)  2359808     batch_normalization_11[0][0]     \n",
      "__________________________________________________________________________________________________\n",
      "batch_normalization_12 (BatchNo (None, 32, 32, 512)  2048        conv2d_12[0][0]                  \n",
      "__________________________________________________________________________________________________\n",
      "up_sampling2d_1 (UpSampling2D)  (None, 64, 64, 512)  0           batch_normalization_12[0][0]     \n",
      "__________________________________________________________________________________________________\n",
      "conv2d_13 (Conv2D)              (None, 64, 64, 256)  524544      up_sampling2d_1[0][0]            \n",
      "__________________________________________________________________________________________________\n",
      "batch_normalization_13 (BatchNo (None, 64, 64, 256)  1024        conv2d_13[0][0]                  \n",
      "__________________________________________________________________________________________________\n",
      "concatenate_1 (Concatenate)     (None, 64, 64, 512)  0           batch_normalization_5[0][0]      \n",
      "                                                                 batch_normalization_13[0][0]     \n",
      "__________________________________________________________________________________________________\n",
      "conv2d_14 (Conv2D)              (None, 64, 64, 256)  1179904     concatenate_1[0][0]              \n",
      "__________________________________________________________________________________________________\n",
      "batch_normalization_14 (BatchNo (None, 64, 64, 256)  1024        conv2d_14[0][0]                  \n",
      "__________________________________________________________________________________________________\n",
      "conv2d_15 (Conv2D)              (None, 64, 64, 256)  590080      batch_normalization_14[0][0]     \n",
      "__________________________________________________________________________________________________\n",
      "batch_normalization_15 (BatchNo (None, 64, 64, 256)  1024        conv2d_15[0][0]                  \n",
      "__________________________________________________________________________________________________\n",
      "up_sampling2d_2 (UpSampling2D)  (None, 128, 128, 256 0           batch_normalization_15[0][0]     \n",
      "__________________________________________________________________________________________________\n",
      "conv2d_16 (Conv2D)              (None, 128, 128, 128 131200      up_sampling2d_2[0][0]            \n",
      "__________________________________________________________________________________________________\n",
      "batch_normalization_16 (BatchNo (None, 128, 128, 128 512         conv2d_16[0][0]                  \n",
      "__________________________________________________________________________________________________\n",
      "concatenate_2 (Concatenate)     (None, 128, 128, 256 0           batch_normalization_3[0][0]      \n",
      "                                                                 batch_normalization_16[0][0]     \n",
      "__________________________________________________________________________________________________\n",
      "conv2d_17 (Conv2D)              (None, 128, 128, 128 295040      concatenate_2[0][0]              \n",
      "__________________________________________________________________________________________________\n",
      "batch_normalization_17 (BatchNo (None, 128, 128, 128 512         conv2d_17[0][0]                  \n",
      "__________________________________________________________________________________________________\n",
      "conv2d_18 (Conv2D)              (None, 128, 128, 128 147584      batch_normalization_17[0][0]     \n",
      "__________________________________________________________________________________________________\n",
      "batch_normalization_18 (BatchNo (None, 128, 128, 128 512         conv2d_18[0][0]                  \n",
      "__________________________________________________________________________________________________\n",
      "up_sampling2d_3 (UpSampling2D)  (None, 256, 256, 128 0           batch_normalization_18[0][0]     \n",
      "__________________________________________________________________________________________________\n",
      "conv2d_19 (Conv2D)              (None, 256, 256, 64) 32832       up_sampling2d_3[0][0]            \n",
      "__________________________________________________________________________________________________\n",
      "batch_normalization_19 (BatchNo (None, 256, 256, 64) 256         conv2d_19[0][0]                  \n",
      "__________________________________________________________________________________________________\n",
      "concatenate_3 (Concatenate)     (None, 256, 256, 128 0           batch_normalization_1[0][0]      \n",
      "                                                                 batch_normalization_19[0][0]     \n",
      "__________________________________________________________________________________________________\n",
      "conv2d_20 (Conv2D)              (None, 256, 256, 64) 73792       concatenate_3[0][0]              \n",
      "__________________________________________________________________________________________________\n",
      "batch_normalization_20 (BatchNo (None, 256, 256, 64) 256         conv2d_20[0][0]                  \n",
      "__________________________________________________________________________________________________\n",
      "conv2d_21 (Conv2D)              (None, 256, 256, 64) 36928       batch_normalization_20[0][0]     \n",
      "__________________________________________________________________________________________________\n",
      "batch_normalization_21 (BatchNo (None, 256, 256, 64) 256         conv2d_21[0][0]                  \n",
      "__________________________________________________________________________________________________\n",
      "conv2d_22 (Conv2D)              (None, 256, 256, 3)  1731        batch_normalization_21[0][0]     \n",
      "__________________________________________________________________________________________________\n",
      "batch_normalization_22 (BatchNo (None, 256, 256, 3)  12          conv2d_22[0][0]                  \n",
      "__________________________________________________________________________________________________\n",
      "conv2d_23 (Conv2D)              (None, 256, 256, 3)  12          batch_normalization_22[0][0]     \n",
      "==================================================================================================\n",
      "Total params: 31,060,827\n",
      "Trainable params: 31,047,125\n",
      "Non-trainable params: 13,702\n",
      "__________________________________________________________________________________________________\n",
      "None\n",
      "Found 39 images belonging to 1 classes.\n",
      "Found 39 images belonging to 1 classes.\n"
     ]
    },
    {
     "name": "stdout",
     "output_type": "stream",
     "text": [
      "Epoch 1/4\n",
      "1795/4096 [============>.................] - ETA: 12:13 - loss: 0.5940 - acc: 0.7780"
     ]
    }
   ],
   "source": [
    "# Run this block to start the training process\n",
    "trainUnet(multiLabel=True)"
   ]
  },
  {
   "cell_type": "code",
   "execution_count": null,
   "metadata": {},
   "outputs": [],
   "source": []
  },
  {
   "cell_type": "code",
   "execution_count": null,
   "metadata": {},
   "outputs": [],
   "source": []
  }
 ],
 "metadata": {
  "kernelspec": {
   "display_name": "Python 3",
   "language": "python",
   "name": "python3"
  },
  "language_info": {
   "codemirror_mode": {
    "name": "ipython",
    "version": 3
   },
   "file_extension": ".py",
   "mimetype": "text/x-python",
   "name": "python",
   "nbconvert_exporter": "python",
   "pygments_lexer": "ipython3",
   "version": "3.6.8"
  }
 },
 "nbformat": 4,
 "nbformat_minor": 2
}
