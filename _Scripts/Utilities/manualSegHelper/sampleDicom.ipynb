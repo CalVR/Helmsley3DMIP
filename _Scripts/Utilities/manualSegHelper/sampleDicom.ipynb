{
 "cells": [
  {
   "cell_type": "code",
   "execution_count": 5,
   "metadata": {},
   "outputs": [],
   "source": [
    "from segHelperLib import *"
   ]
  },
  {
   "cell_type": "code",
   "execution_count": 7,
   "metadata": {},
   "outputs": [
    {
     "name": "stdout",
     "output_type": "stream",
     "text": [
      "Deleting old training files and temp files.\n",
      "Deleting directory ./sampledLabel failed\n",
      "Deleting directory ./tmp failed\n",
      "Successfully created the directory ./sampledDataset \n",
      "Sampling 39 dicom images.\n"
     ]
    }
   ],
   "source": [
    "# Run this block to prepare all the training data\n",
    "pruneSystem()\n",
    "sampleDicomData(0.3)"
   ]
  },
  {
   "cell_type": "code",
   "execution_count": null,
   "metadata": {},
   "outputs": [],
   "source": []
  }
 ],
 "metadata": {
  "kernelspec": {
   "display_name": "Python 3",
   "language": "python",
   "name": "python3"
  },
  "language_info": {
   "codemirror_mode": {
    "name": "ipython",
    "version": 3
   },
   "file_extension": ".py",
   "mimetype": "text/x-python",
   "name": "python",
   "nbconvert_exporter": "python",
   "pygments_lexer": "ipython3",
   "version": "3.6.8"
  }
 },
 "nbformat": 4,
 "nbformat_minor": 2
}
