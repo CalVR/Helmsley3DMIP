{
 "cells": [
  {
   "cell_type": "code",
   "execution_count": 1,
   "metadata": {},
   "outputs": [
    {
     "name": "stderr",
     "output_type": "stream",
     "text": [
      "WARNING: Logging before flag parsing goes to stderr.\n",
      "W0904 16:58:10.101951 14940 deprecation_wrapper.py:119] From C:\\Users\\Zifeng Li\\Desktop\\HelmsleyDocker\\Helmsley3DMIP\\_Scripts\\Utilities\\manualSegHelper\\test_model.py:4: The name tf.keras.layers.CuDNNGRU is deprecated. Please use tf.compat.v1.keras.layers.CuDNNGRU instead.\n",
      "\n",
      "W0904 16:58:10.104952 14940 deprecation_wrapper.py:119] From C:\\Users\\Zifeng Li\\Desktop\\HelmsleyDocker\\Helmsley3DMIP\\_Scripts\\Utilities\\manualSegHelper\\test_model.py:4: The name tf.keras.layers.CuDNNLSTM is deprecated. Please use tf.compat.v1.keras.layers.CuDNNLSTM instead.\n",
      "\n"
     ]
    }
   ],
   "source": [
    "from segHelperLib import *"
   ]
  },
  {
   "cell_type": "code",
   "execution_count": 2,
   "metadata": {},
   "outputs": [
    {
     "name": "stdout",
     "output_type": "stream",
     "text": [
      "Deleting old training files and temp files.\n",
      "Deleting directory ./sampledDataset failed\n",
      "Deleting directory ./sampledLabel failed\n",
      "Deleting directory ./tmp failed\n",
      "Successfully created the directory ./sampledDataset \n",
      "Sampling 23 dicom images.\n"
     ]
    }
   ],
   "source": [
    "# Run this block to prepare all the training data\n",
    "pruneSystem()\n",
    "sampleDicomData(0.25)"
   ]
  },
  {
   "cell_type": "code",
   "execution_count": null,
   "metadata": {},
   "outputs": [],
   "source": []
  }
 ],
 "metadata": {
  "kernelspec": {
   "display_name": "Python 3",
   "language": "python",
   "name": "python3"
  },
  "language_info": {
   "codemirror_mode": {
    "name": "ipython",
    "version": 3
   },
   "file_extension": ".py",
   "mimetype": "text/x-python",
   "name": "python",
   "nbconvert_exporter": "python",
   "pygments_lexer": "ipython3",
   "version": "3.6.8"
  }
 },
 "nbformat": 4,
 "nbformat_minor": 2
}
