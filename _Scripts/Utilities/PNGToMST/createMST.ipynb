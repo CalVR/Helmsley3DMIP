{
 "cells": [
  {
   "cell_type": "code",
   "execution_count": 1,
   "metadata": {},
   "outputs": [],
   "source": [
    "import numpy as np\n",
    "import pptk\n",
    "import networkx as nx\n",
    "import imageio\n",
    "import glob\n",
    "import re\n",
    "from scipy.spatial import distance\n",
    "from random import sample\n",
    "import matplotlib.pyplot as plt\n",
    "from scipy.spatial import distance"
   ]
  },
  {
   "cell_type": "code",
   "execution_count": 2,
   "metadata": {},
   "outputs": [],
   "source": [
    "def displayPoints(data, pointSize):\n",
    "    v = pptk.viewer(data)\n",
    "    v.set(point_size=pointSize)"
   ]
  },
  {
   "cell_type": "code",
   "execution_count": 3,
   "metadata": {},
   "outputs": [],
   "source": [
    "# given the file path of PNGs, return the MST of the point cloud generated from the PNG files\n",
    "def getMSTFromPNG(filePath):\n",
    "    # Read points data from PNGs \n",
    "    data = ReadPointFromPNG(filePath)\n",
    "    # sample 5000 points from the whole set, otherwise it would take too long\n",
    "    sample_data = sample(data, 5000)\n",
    "    #display the points \n",
    "    displayPoints(sample_data, 1.3)\n",
    "    #Create a networkX graph instance that represent MST\n",
    "    MST = CreateMSTGraph(sample_data)\n",
    "    return MST\n",
    "    "
   ]
  },
  {
   "cell_type": "code",
   "execution_count": 4,
   "metadata": {},
   "outputs": [],
   "source": [
    "def readPointFromTXT(filepath):\n",
    "    data = np.genfromtxt(fname=filepath, skip_header=0)\n",
    "    return data"
   ]
  },
  {
   "cell_type": "code",
   "execution_count": 5,
   "metadata": {},
   "outputs": [],
   "source": [
    "def ReadPointFromPNG(filepath):\n",
    "    path_list = [im_path for im_path in glob.glob(filepath)]\n",
    "    path_list_parsed = [re.split('\\/|\\.', path) for path in path_list]\n",
    "    path_list_parsed_valid = [x for x in path_list_parsed if x[-1] == 'png']\n",
    "    path_list_parsed_valid = sorted(path_list_parsed_valid, key=lambda x:int(x[-2]))\n",
    "    data_valid = []\n",
    "    delta = 0.5\n",
    "    thickness = len(path_list_parsed_valid) * 3 * delta\n",
    "    for path in path_list_parsed_valid:\n",
    "        s = \"/\"\n",
    "        s = s.join(path)\n",
    "        s = s[:-4] + '.png'\n",
    "        image = imageio.imread(s)\n",
    "        for row in range(len(image)):\n",
    "            for col in range(len(image)):\n",
    "                if image[row][col] > 100:\n",
    "                    data_valid.append([row, col, thickness])\n",
    "        thickness -= 3*delta\n",
    "    return data_valid    "
   ]
  },
  {
   "cell_type": "code",
   "execution_count": 9,
   "metadata": {},
   "outputs": [],
   "source": [
    "def getNearbyPoints(pointsData):\n",
    "    D = distance.squareform(distance.pdist(pointsData))\n",
    "    closestIndicies = np.argsort(D, axis=1)\n",
    "    closestDis = np.sort(D, 1)\n",
    "    threshold = 10\n",
    "    return (closestIndicies[:, 1:threshold],closestDis[:, 1:threshold])\n",
    "    "
   ]
  },
  {
   "cell_type": "code",
   "execution_count": 11,
   "metadata": {},
   "outputs": [],
   "source": [
    "def CreateMSTGraph(pointsData):\n",
    "    nearbyInfo = getNearbyPoints(pointsData)\n",
    "    G=nx.Graph()\n",
    "    closestIndicies = nearbyInfo[0]\n",
    "    closestDis = nearbyInfo[1]\n",
    "    for firstPIndex in range(len(closestIndicies)):\n",
    "        for second in range(len(closestIndicies[firstPIndex])):\n",
    "            secondPIndex = closestIndicies[firstPIndex][second]\n",
    "            G.add_edge(firstPIndex, secondPIndex , weight = closestDis[firstPIndex][second])\n",
    "    G = nx.minimum_spanning_tree(G)\n",
    "    return G"
   ]
  },
  {
   "cell_type": "code",
   "execution_count": 12,
   "metadata": {},
   "outputs": [],
   "source": [
    "graph = getMSTFromPNG(\"/Users/zifengli/Downloads/2017_post/*.png\")"
   ]
  },
  {
   "cell_type": "code",
   "execution_count": 13,
   "metadata": {},
   "outputs": [
    {
     "data": {
      "image/png": "[encoded data removed]",
      "text/plain": [
       "<Figure size 432x288 with 1 Axes>"
      ]
     },
     "metadata": {},
     "output_type": "display_data"
    }
   ],
   "source": [
    "nx.draw(graph)"
   ]
  },
  {
   "cell_type": "code",
   "execution_count": null,
   "metadata": {},
   "outputs": [],
   "source": []
  }
 ],
 "metadata": {
  "kernelspec": {
   "display_name": "Python 3",
   "language": "python",
   "name": "python3"
  }
 },
 "nbformat": 4,
 "nbformat_minor": 2
}
