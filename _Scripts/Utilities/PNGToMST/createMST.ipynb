{
 "cells": [
  {
   "cell_type": "code",
   "execution_count": 48,
   "metadata": {},
   "outputs": [],
   "source": [
    "import numpy as np\n",
    "import pptk\n",
    "import networkx as nx\n",
    "import imageio\n",
    "import glob\n",
    "import re\n",
    "from scipy.spatial import distance\n",
    "from random import sample\n",
    "import matplotlib.pyplot as plt\n",
    "from scipy.spatial import distance\n",
    "from time import strftime\n",
    "import os\n"
   ]
  },
  {
   "cell_type": "code",
   "execution_count": 49,
   "metadata": {},
   "outputs": [],
   "source": [
    "if os.name == 'nt': # Windows\n",
    "    system_win = 1\n",
    "else:\n",
    "    system_win = 0"
   ]
  },
  {
   "cell_type": "code",
   "execution_count": 3,
   "metadata": {},
   "outputs": [],
   "source": [
    "def displayPoints(data, pointSize):\n",
    "    v = pptk.viewer(data)\n",
    "    v.set(point_size=pointSize)"
   ]
  },
  {
   "cell_type": "code",
   "execution_count": 4,
   "metadata": {},
   "outputs": [],
   "source": [
    "# given the file path of PNGs, return the MST of the point cloud generated from the PNG files\n",
    "def getMSTFromPNG(filePath):\n",
    "    # Read points data from PNGs \n",
    "    data = ReadPointFromPNG(filePath)\n",
    "    # sample 5000 points from the whole set, otherwise it would take too long\n",
    "    sample_data = sample(data, 5000)\n",
    "    #display the points \n",
    "    displayPoints(sample_data, 1.3)\n",
    "    #Create a networkX graph instance that represent MST\n",
    "    MST = CreateMSTGraph(sample_data)\n",
    "    return MST\n",
    "    "
   ]
  },
  {
   "cell_type": "code",
   "execution_count": 5,
   "metadata": {},
   "outputs": [],
   "source": [
    "def readPointFromTXT(filepath):\n",
    "    data = np.genfromtxt(fname=filepath, skip_header=0)\n",
    "    return data"
   ]
  },
  {
   "cell_type": "code",
   "execution_count": 51,
   "metadata": {},
   "outputs": [],
   "source": [
    "def ReadPointFromPNG(filepath):\n",
    "    path_list = [im_path for im_path in glob.glob(filepath)]\n",
    "    if system_win:\n",
    "        path_list_parsed = [re.split('\\\\\\\\|\\.', path) for path in path_list]\n",
    "    else:\n",
    "        path_list_parsed = [re.split('/|\\.', path) for path in path_list]\n",
    "    print(path_list_parsed)\n",
    "    path_list_parsed_valid = [x for x in path_list_parsed if x[-1] == 'png']\n",
    "    path_list_parsed_valid = sorted(path_list_parsed_valid, key=lambda x:int(x[-2]))\n",
    "    print(path_list_parsed_valid)\n",
    "    data_valid = []\n",
    "    delta = 0.5\n",
    "    thickness = len(path_list_parsed_valid) * 3 * delta\n",
    "    for path in path_list_parsed_valid:\n",
    "        s = \"\"\n",
    "        if system_win:\n",
    "            s = \"\\\\\"\n",
    "        else:\n",
    "            s = \"/\"\n",
    "        s = s.join(path)\n",
    "        s = s[:-4] + '.png'\n",
    "        image = imageio.imread(s)\n",
    "        for row in range(len(image)):\n",
    "            for col in range(len(image)):\n",
    "                if image[row][col] > 100:\n",
    "                    data_valid.append([row, col, thickness])\n",
    "        thickness -= 3*delta\n",
    "    return data_valid    "
   ]
  },
  {
   "cell_type": "code",
   "execution_count": 7,
   "metadata": {},
   "outputs": [],
   "source": [
    "def getNearbyPoints(pointsData):\n",
    "    D = distance.squareform(distance.pdist(pointsData))\n",
    "    closestIndicies = np.argsort(D, axis=1)\n",
    "    closestDis = np.sort(D, 1)\n",
    "    threshold = 10\n",
    "    return (closestIndicies[:, 1:threshold],closestDis[:, 1:threshold])\n",
    "    "
   ]
  },
  {
   "cell_type": "code",
   "execution_count": 24,
   "metadata": {},
   "outputs": [],
   "source": [
    "def CreateMSTGraph(pointsData):\n",
    "    nearbyInfo = getNearbyPoints(pointsData)\n",
    "    G=nx.Graph()\n",
    "    closestIndicies = nearbyInfo[0]\n",
    "    closestDis = nearbyInfo[1]\n",
    "    for firstPIndex in range(len(closestIndicies)):\n",
    "        for second in range(len(closestIndicies[firstPIndex])):\n",
    "            secondPIndex = closestIndicies[firstPIndex][second]\n",
    "            G.add_edge(firstPIndex, secondPIndex , weight = closestDis[firstPIndex][second])\n",
    "    G = nx.minimum_spanning_tree(G)\n",
    "    return G"
   ]
  },
  {
   "cell_type": "code",
   "execution_count": null,
   "metadata": {},
   "outputs": [],
   "source": []
  },
  {
   "cell_type": "code",
   "execution_count": 52,
   "metadata": {},
   "outputs": [
    {
     "name": "stdout",
     "output_type": "stream",
     "text": [
      "[['mri_label_2016', '0', 'png'], ['mri_label_2016', '1', 'png'], ['mri_label_2016', '10', 'png'], ['mri_label_2016', '100', 'png'], ['mri_label_2016', '101', 'png'], ['mri_label_2016', '102', 'png'], ['mri_label_2016', '103', 'png'], ['mri_label_2016', '104', 'png'], ['mri_label_2016', '105', 'png'], ['mri_label_2016', '106', 'png'], ['mri_label_2016', '107', 'png'], ['mri_label_2016', '108', 'png'], ['mri_label_2016', '109', 'png'], ['mri_label_2016', '11', 'png'], ['mri_label_2016', '110', 'png'], ['mri_label_2016', '111', 'png'], ['mri_label_2016', '112', 'png'], ['mri_label_2016', '113', 'png'], ['mri_label_2016', '114', 'png'], ['mri_label_2016', '115', 'png'], ['mri_label_2016', '116', 'png'], ['mri_label_2016', '117', 'png'], ['mri_label_2016', '118', 'png'], ['mri_label_2016', '119', 'png'], ['mri_label_2016', '12', 'png'], ['mri_label_2016', '120', 'png'], ['mri_label_2016', '121', 'png'], ['mri_label_2016', '122', 'png'], ['mri_label_2016', '123', 'png'], ['mri_label_2016', '124', 'png'], ['mri_label_2016', '125', 'png'], ['mri_label_2016', '126', 'png'], ['mri_label_2016', '127', 'png'], ['mri_label_2016', '128', 'png'], ['mri_label_2016', '129', 'png'], ['mri_label_2016', '13', 'png'], ['mri_label_2016', '130', 'png'], ['mri_label_2016', '131', 'png'], ['mri_label_2016', '132', 'png'], ['mri_label_2016', '133', 'png'], ['mri_label_2016', '134', 'png'], ['mri_label_2016', '135', 'png'], ['mri_label_2016', '136', 'png'], ['mri_label_2016', '137', 'png'], ['mri_label_2016', '138', 'png'], ['mri_label_2016', '139', 'png'], ['mri_label_2016', '14', 'png'], ['mri_label_2016', '140', 'png'], ['mri_label_2016', '141', 'png'], ['mri_label_2016', '142', 'png'], ['mri_label_2016', '143', 'png'], ['mri_label_2016', '15', 'png'], ['mri_label_2016', '16', 'png'], ['mri_label_2016', '17', 'png'], ['mri_label_2016', '18', 'png'], ['mri_label_2016', '19', 'png'], ['mri_label_2016', '2', 'png'], ['mri_label_2016', '20', 'png'], ['mri_label_2016', '21', 'png'], ['mri_label_2016', '22', 'png'], ['mri_label_2016', '23', 'png'], ['mri_label_2016', '24', 'png'], ['mri_label_2016', '25', 'png'], ['mri_label_2016', '26', 'png'], ['mri_label_2016', '27', 'png'], ['mri_label_2016', '28', 'png'], ['mri_label_2016', '29', 'png'], ['mri_label_2016', '3', 'png'], ['mri_label_2016', '30', 'png'], ['mri_label_2016', '31', 'png'], ['mri_label_2016', '32', 'png'], ['mri_label_2016', '33', 'png'], ['mri_label_2016', '34', 'png'], ['mri_label_2016', '35', 'png'], ['mri_label_2016', '36', 'png'], ['mri_label_2016', '37', 'png'], ['mri_label_2016', '38', 'png'], ['mri_label_2016', '39', 'png'], ['mri_label_2016', '4', 'png'], ['mri_label_2016', '40', 'png'], ['mri_label_2016', '41', 'png'], ['mri_label_2016', '42', 'png'], ['mri_label_2016', '43', 'png'], ['mri_label_2016', '44', 'png'], ['mri_label_2016', '45', 'png'], ['mri_label_2016', '46', 'png'], ['mri_label_2016', '47', 'png'], ['mri_label_2016', '48', 'png'], ['mri_label_2016', '49', 'png'], ['mri_label_2016', '5', 'png'], ['mri_label_2016', '50', 'png'], ['mri_label_2016', '51', 'png'], ['mri_label_2016', '52', 'png'], ['mri_label_2016', '53', 'png'], ['mri_label_2016', '54', 'png'], ['mri_label_2016', '55', 'png'], ['mri_label_2016', '56', 'png'], ['mri_label_2016', '57', 'png'], ['mri_label_2016', '58', 'png'], ['mri_label_2016', '59', 'png'], ['mri_label_2016', '6', 'png'], ['mri_label_2016', '60', 'png'], ['mri_label_2016', '61', 'png'], ['mri_label_2016', '62', 'png'], ['mri_label_2016', '63', 'png'], ['mri_label_2016', '64', 'png'], ['mri_label_2016', '65', 'png'], ['mri_label_2016', '66', 'png'], ['mri_label_2016', '67', 'png'], ['mri_label_2016', '68', 'png'], ['mri_label_2016', '69', 'png'], ['mri_label_2016', '7', 'png'], ['mri_label_2016', '70', 'png'], ['mri_label_2016', '71', 'png'], ['mri_label_2016', '72', 'png'], ['mri_label_2016', '73', 'png'], ['mri_label_2016', '74', 'png'], ['mri_label_2016', '75', 'png'], ['mri_label_2016', '76', 'png'], ['mri_label_2016', '77', 'png'], ['mri_label_2016', '78', 'png'], ['mri_label_2016', '79', 'png'], ['mri_label_2016', '8', 'png'], ['mri_label_2016', '80', 'png'], ['mri_label_2016', '81', 'png'], ['mri_label_2016', '82', 'png'], ['mri_label_2016', '83', 'png'], ['mri_label_2016', '84', 'png'], ['mri_label_2016', '85', 'png'], ['mri_label_2016', '86', 'png'], ['mri_label_2016', '87', 'png'], ['mri_label_2016', '88', 'png'], ['mri_label_2016', '89', 'png'], ['mri_label_2016', '9', 'png'], ['mri_label_2016', '90', 'png'], ['mri_label_2016', '91', 'png'], ['mri_label_2016', '92', 'png'], ['mri_label_2016', '93', 'png'], ['mri_label_2016', '94', 'png'], ['mri_label_2016', '95', 'png'], ['mri_label_2016', '96', 'png'], ['mri_label_2016', '97', 'png'], ['mri_label_2016', '98', 'png'], ['mri_label_2016', '99', 'png']]\n",
      "[['mri_label_2016', '0', 'png'], ['mri_label_2016', '1', 'png'], ['mri_label_2016', '2', 'png'], ['mri_label_2016', '3', 'png'], ['mri_label_2016', '4', 'png'], ['mri_label_2016', '5', 'png'], ['mri_label_2016', '6', 'png'], ['mri_label_2016', '7', 'png'], ['mri_label_2016', '8', 'png'], ['mri_label_2016', '9', 'png'], ['mri_label_2016', '10', 'png'], ['mri_label_2016', '11', 'png'], ['mri_label_2016', '12', 'png'], ['mri_label_2016', '13', 'png'], ['mri_label_2016', '14', 'png'], ['mri_label_2016', '15', 'png'], ['mri_label_2016', '16', 'png'], ['mri_label_2016', '17', 'png'], ['mri_label_2016', '18', 'png'], ['mri_label_2016', '19', 'png'], ['mri_label_2016', '20', 'png'], ['mri_label_2016', '21', 'png'], ['mri_label_2016', '22', 'png'], ['mri_label_2016', '23', 'png'], ['mri_label_2016', '24', 'png'], ['mri_label_2016', '25', 'png'], ['mri_label_2016', '26', 'png'], ['mri_label_2016', '27', 'png'], ['mri_label_2016', '28', 'png'], ['mri_label_2016', '29', 'png'], ['mri_label_2016', '30', 'png'], ['mri_label_2016', '31', 'png'], ['mri_label_2016', '32', 'png'], ['mri_label_2016', '33', 'png'], ['mri_label_2016', '34', 'png'], ['mri_label_2016', '35', 'png'], ['mri_label_2016', '36', 'png'], ['mri_label_2016', '37', 'png'], ['mri_label_2016', '38', 'png'], ['mri_label_2016', '39', 'png'], ['mri_label_2016', '40', 'png'], ['mri_label_2016', '41', 'png'], ['mri_label_2016', '42', 'png'], ['mri_label_2016', '43', 'png'], ['mri_label_2016', '44', 'png'], ['mri_label_2016', '45', 'png'], ['mri_label_2016', '46', 'png'], ['mri_label_2016', '47', 'png'], ['mri_label_2016', '48', 'png'], ['mri_label_2016', '49', 'png'], ['mri_label_2016', '50', 'png'], ['mri_label_2016', '51', 'png'], ['mri_label_2016', '52', 'png'], ['mri_label_2016', '53', 'png'], ['mri_label_2016', '54', 'png'], ['mri_label_2016', '55', 'png'], ['mri_label_2016', '56', 'png'], ['mri_label_2016', '57', 'png'], ['mri_label_2016', '58', 'png'], ['mri_label_2016', '59', 'png'], ['mri_label_2016', '60', 'png'], ['mri_label_2016', '61', 'png'], ['mri_label_2016', '62', 'png'], ['mri_label_2016', '63', 'png'], ['mri_label_2016', '64', 'png'], ['mri_label_2016', '65', 'png'], ['mri_label_2016', '66', 'png'], ['mri_label_2016', '67', 'png'], ['mri_label_2016', '68', 'png'], ['mri_label_2016', '69', 'png'], ['mri_label_2016', '70', 'png'], ['mri_label_2016', '71', 'png'], ['mri_label_2016', '72', 'png'], ['mri_label_2016', '73', 'png'], ['mri_label_2016', '74', 'png'], ['mri_label_2016', '75', 'png'], ['mri_label_2016', '76', 'png'], ['mri_label_2016', '77', 'png'], ['mri_label_2016', '78', 'png'], ['mri_label_2016', '79', 'png'], ['mri_label_2016', '80', 'png'], ['mri_label_2016', '81', 'png'], ['mri_label_2016', '82', 'png'], ['mri_label_2016', '83', 'png'], ['mri_label_2016', '84', 'png'], ['mri_label_2016', '85', 'png'], ['mri_label_2016', '86', 'png'], ['mri_label_2016', '87', 'png'], ['mri_label_2016', '88', 'png'], ['mri_label_2016', '89', 'png'], ['mri_label_2016', '90', 'png'], ['mri_label_2016', '91', 'png'], ['mri_label_2016', '92', 'png'], ['mri_label_2016', '93', 'png'], ['mri_label_2016', '94', 'png'], ['mri_label_2016', '95', 'png'], ['mri_label_2016', '96', 'png'], ['mri_label_2016', '97', 'png'], ['mri_label_2016', '98', 'png'], ['mri_label_2016', '99', 'png'], ['mri_label_2016', '100', 'png'], ['mri_label_2016', '101', 'png'], ['mri_label_2016', '102', 'png'], ['mri_label_2016', '103', 'png'], ['mri_label_2016', '104', 'png'], ['mri_label_2016', '105', 'png'], ['mri_label_2016', '106', 'png'], ['mri_label_2016', '107', 'png'], ['mri_label_2016', '108', 'png'], ['mri_label_2016', '109', 'png'], ['mri_label_2016', '110', 'png'], ['mri_label_2016', '111', 'png'], ['mri_label_2016', '112', 'png'], ['mri_label_2016', '113', 'png'], ['mri_label_2016', '114', 'png'], ['mri_label_2016', '115', 'png'], ['mri_label_2016', '116', 'png'], ['mri_label_2016', '117', 'png'], ['mri_label_2016', '118', 'png'], ['mri_label_2016', '119', 'png'], ['mri_label_2016', '120', 'png'], ['mri_label_2016', '121', 'png'], ['mri_label_2016', '122', 'png'], ['mri_label_2016', '123', 'png'], ['mri_label_2016', '124', 'png'], ['mri_label_2016', '125', 'png'], ['mri_label_2016', '126', 'png'], ['mri_label_2016', '127', 'png'], ['mri_label_2016', '128', 'png'], ['mri_label_2016', '129', 'png'], ['mri_label_2016', '130', 'png'], ['mri_label_2016', '131', 'png'], ['mri_label_2016', '132', 'png'], ['mri_label_2016', '133', 'png'], ['mri_label_2016', '134', 'png'], ['mri_label_2016', '135', 'png'], ['mri_label_2016', '136', 'png'], ['mri_label_2016', '137', 'png'], ['mri_label_2016', '138', 'png'], ['mri_label_2016', '139', 'png'], ['mri_label_2016', '140', 'png'], ['mri_label_2016', '141', 'png'], ['mri_label_2016', '142', 'png'], ['mri_label_2016', '143', 'png']]\n"
     ]
    }
   ],
   "source": [
    "graph = getMSTFromPNG(\"mri_label_2016\\*.png\")"
   ]
  },
  {
   "cell_type": "code",
   "execution_count": 45,
   "metadata": {},
   "outputs": [
    {
     "name": "stderr",
     "output_type": "stream",
     "text": [
      "C:\\Users\\lizif\\Anaconda3\\envs\\MIP3D\\lib\\site-packages\\networkx\\drawing\\nx_pylab.py:611: MatplotlibDeprecationWarning: isinstance(..., numbers.Number)\n",
      "  if cb.is_numlike(alpha):\n"
     ]
    },
    {
     "data": {
      "image/png": "[encoded data removed]",
      "text/plain": [
       "<Figure size 432x288 with 1 Axes>"
      ]
     },
     "metadata": {},
     "output_type": "display_data"
    }
   ],
   "source": [
    "nx.draw(graph)"
   ]
  },
  {
   "cell_type": "code",
   "execution_count": null,
   "metadata": {},
   "outputs": [],
   "source": []
  }
 ],
 "metadata": {
  "kernelspec": {
   "display_name": "Python 3",
   "language": "python",
   "name": "python3"
  },
  "language_info": {
   "codemirror_mode": {
    "name": "ipython",
    "version": 3
   },
   "file_extension": ".py",
   "mimetype": "text/x-python",
   "name": "python",
   "nbconvert_exporter": "python",
   "pygments_lexer": "ipython3",
   "version": "3.7.3"
  }
 },
 "nbformat": 4,
 "nbformat_minor": 2
}
