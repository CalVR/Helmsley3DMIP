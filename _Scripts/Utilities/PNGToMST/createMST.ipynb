{
 "cells": [
  {
   "cell_type": "code",
   "execution_count": 1,
   "metadata": {},
   "outputs": [
    {
     "data": {
      "text/html": [
       "<div id=\"glowscript\" class=\"glowscript\"></div>"
      ],
      "text/plain": [
       "<IPython.core.display.HTML object>"
      ]
     },
     "metadata": {},
     "output_type": "display_data"
    },
    {
     "data": {
      "application/javascript": [
       "if (typeof Jupyter !== \"undefined\") { window.__context = { glowscript_container: $(\"#glowscript\").removeAttr(\"id\")};}else{ element.textContent = ' ';}"
      ],
      "text/plain": [
       "<IPython.core.display.Javascript object>"
      ]
     },
     "metadata": {},
     "output_type": "display_data"
    },
    {
     "data": {
      "text/html": [
       "<div id=\"glowscript\" class=\"glowscript\"></div>"
      ],
      "text/plain": [
       "<IPython.core.display.HTML object>"
      ]
     },
     "metadata": {},
     "output_type": "display_data"
    },
    {
     "data": {
      "application/javascript": [
       "if (typeof Jupyter !== \"undefined\") { window.__context = { glowscript_container: $(\"#glowscript\").removeAttr(\"id\")};}else{ element.textContent = ' ';}"
      ],
      "text/plain": [
       "<IPython.core.display.Javascript object>"
      ]
     },
     "metadata": {},
     "output_type": "display_data"
    }
   ],
   "source": [
    "import numpy as np\n",
    "import pptk\n",
    "import networkx as nx\n",
    "import imageio\n",
    "import glob\n",
    "import re\n",
    "from random import sample\n",
    "from scipy.spatial import distance\n",
    "from time import strftime\n",
    "import os\n",
    "import scipy.optimize as optimize\n",
    "import math\n",
    "from sklearn.linear_model import LinearRegression\n",
    "import time\n",
    "import copy\n",
    "from moving_least_square import *\n",
    "from tempfile import TemporaryFile\n",
    "from collections import defaultdict\n",
    "from vpython import *\n",
    "from math import *\n",
    "scene = canvas()"
   ]
  },
  {
   "cell_type": "code",
   "execution_count": 2,
   "metadata": {},
   "outputs": [],
   "source": [
    "if os.name == 'nt': # Windows\n",
    "    system_win = 1\n",
    "else:\n",
    "    system_win = 0"
   ]
  },
  {
   "cell_type": "code",
   "execution_count": 23,
   "metadata": {},
   "outputs": [],
   "source": [
    "# Given the data points, return the MST of the point cloud generated from the PNG files and an array \n",
    "# of points positions\n",
    "# Param: data: an array of points coordinate. Each point's coordinate should has the format of [x, y, z]\n",
    "#        drawMST: boolean value. Default is false. If set true, the function will also draw a MST graph at the end\n",
    "#        sampleNumber: int value. Default is 5000. This function will only sample <sampleNumber> points from the data\n",
    "# Return: a NetworkX graph representing the Minimum spanning tree of the data points\n",
    "def getMSTFromDataPoint(data, drawMST: bool=False, sampleNumber: int=5000):\n",
    "    # Read points data from PNGs \n",
    "    if(sampleNumber > len(data)):\n",
    "        sampleNumber = len(data)\n",
    "        \n",
    "    # default sample 5000 points from the whole set, otherwise it would take too long\n",
    "    print(\"---------------\")\n",
    "    print(\"There are \" + str(len(data)) + \" points in total. Now sampleling \" + str(sampleNumber) + \" points from them\")\n",
    "    sample_data = np.asarray(sample(list(data), sampleNumber))\n",
    "    print(\"---------------\")\n",
    "    print(\"Done!\")\n",
    "    \n",
    "    #display the points \n",
    "    #displayPoints(sample_data, 1.3)\n",
    "    \n",
    "    #Create a networkX graph instance that represent MST\n",
    "    print(\"---------------\")\n",
    "    print(\"Begin creating a MST of the sampled points cloud\")\n",
    "    MST = CreateMSTGraph(sample_data)\n",
    "    print(\"---------------\")\n",
    "    print(\"MST creation Done!\")\n",
    "    \n",
    "    if(drawMST):\n",
    "        nx.draw(MST, dict(enumerate(sample_data[:, :2])))\n",
    "        \n",
    "    return (MST, sample_data)\n",
    "    "
   ]
  },
  {
   "cell_type": "code",
   "execution_count": 4,
   "metadata": {},
   "outputs": [],
   "source": [
    "# This function will invoke a pptk viewer to render the points \n",
    "# Param: data: an array of points coordinate. Each point's coordinate should has the format of [x, y, z]\n",
    "#       pointSize: the size of the point to be rendered on the screen\n",
    "# Return: none\n",
    "\n",
    "def displayPoints(data, pointSize):\n",
    "    v = pptk.viewer(data)\n",
    "    v.set(point_size=pointSize)"
   ]
  },
  {
   "cell_type": "code",
   "execution_count": 5,
   "metadata": {},
   "outputs": [],
   "source": [
    "# This function will read a txt file and convert its content to point data, which is an array of points coordinate. \n",
    "# Each point's coordinate should has the format of [x, y, z]\n",
    "# Param: filePath: the file path of the txt file\n",
    "# Return: an array of points coordinate. Each point's coordinate has the format of [x, y, z]\n",
    "def readPointFromTXT(filePath):\n",
    "    data = np.genfromtxt(fname=filePath, skip_header=0)\n",
    "    return data"
   ]
  },
  {
   "cell_type": "code",
   "execution_count": 6,
   "metadata": {},
   "outputs": [],
   "source": [
    "# This function will read a series of PNG file and convert its content to point data, which is an array of points coordinate. \n",
    "# Each point's coordinate will have the format of [x, y, z]\n",
    "# Param: filePath: the file path of the PNG files. Each file should be named as 1.png, 2.png, 3.png ... etc. All the png file should \n",
    "# be ordered by the their topological order from their original dicom file\n",
    "# Return: an array of points coordinate. Each point's coordinate has the format of [x, y, z]\n",
    "def ReadPointFromPNG(filepath):\n",
    "    print(\"---------------\")\n",
    "    print(\"Begin reading points data from PNG files\")\n",
    "    path_list = [im_path for im_path in glob.glob(filepath)]\n",
    "    \n",
    "    if system_win:\n",
    "        path_list_parsed = [re.split('\\\\\\\\|\\.', path) for path in path_list]\n",
    "    else:\n",
    "        path_list_parsed = [re.split('/|\\.', path) for path in path_list]\n",
    "    path_list_parsed_valid = [x for x in path_list_parsed if x[-1] == 'png']\n",
    "    path_list_parsed_valid = sorted(path_list_parsed_valid, key=lambda x:int(x[-2]))\n",
    "    \n",
    "    print(\"There are\", len(path_list_parsed_valid),\"PNG files, now convert them to point coordinates in 3D\")\n",
    "    data_valid = []\n",
    "    delta = 0.5\n",
    "    thickness = len(path_list_parsed_valid) * 3 * delta\n",
    "    for path in path_list_parsed_valid:\n",
    "        s = \"\"\n",
    "        if system_win:\n",
    "            s = \"\\\\\"\n",
    "        else:\n",
    "            s = \"/\"\n",
    "        s = s.join(path)\n",
    "        s = s[:-4] + '.png'\n",
    "        image = imageio.imread(s)\n",
    "        for row in range(len(image)):\n",
    "            for col in range(len(image)):\n",
    "                if image[row][col] > 100:\n",
    "                    data_valid.append([row, col, thickness])\n",
    "        thickness -= 3*delta\n",
    "        print(\"Finished\", s)\n",
    "    print(\"Done!\")\n",
    "    return data_valid"
   ]
  },
  {
   "cell_type": "code",
   "execution_count": 7,
   "metadata": {},
   "outputs": [],
   "source": [
    "# This function is used to limited the number of edges in the original graph.\n",
    "# Instead of creating a graph with full connectivity, this function will return \n",
    "# a list of neighbor points for each point and we will only connect them in the graph\n",
    "def getNearbyPoints(pointsData):\n",
    "    D = distance.squareform(distance.pdist(pointsData))\n",
    "    closestIndicies = np.argsort(D, axis=1)\n",
    "    closestDis = np.sort(D, 1)\n",
    "    threshold = 10 # This number can be changed. The greater this number, the more edges\n",
    "    return (closestIndicies[:, 1:threshold], closestDis[:, 1:threshold])"
   ]
  },
  {
   "cell_type": "code",
   "execution_count": 8,
   "metadata": {},
   "outputs": [],
   "source": [
    "def CreateMSTGraph(pointsData):\n",
    "    print(\"---------------\")\n",
    "    print(\"Begin calculating nearby points for each point\")\n",
    "    nearbyInfo = getNearbyPoints(pointsData)\n",
    "    print(\"---------------\")\n",
    "    print(\"Nearby points calculation Done!\")\n",
    "    print(\"---------------\")\n",
    "    print(\"Begin construct graph\")\n",
    "    G=nx.Graph()\n",
    "    closestIndicies = nearbyInfo[0]\n",
    "    closestDis = nearbyInfo[1]\n",
    "    for firstPIndex in range(len(closestIndicies)):\n",
    "        for second in range(len(closestIndicies[firstPIndex])):\n",
    "            secondPIndex = closestIndicies[firstPIndex][second]\n",
    "            G.add_edge(firstPIndex, secondPIndex , weight = closestDis[firstPIndex][second])\n",
    "    print(\"---------------\")\n",
    "    print(\"Graph construction Done!\")\n",
    "    print(\"---------------\")\n",
    "    print(\"Begin calculate MST\")\n",
    "    G = nx.minimum_spanning_tree(G)\n",
    "    print(\"---------------\")\n",
    "    print(\"MST calculation Done!\")\n",
    "    return G"
   ]
  },
  {
   "cell_type": "code",
   "execution_count": 9,
   "metadata": {},
   "outputs": [],
   "source": [
    "# Impliment the collect algorithm for 3D points in the paper\n",
    "def collectPoints1(P: int, PStar: int):\n",
    "    global H_glo\n",
    "    global graph\n",
    "    global pointsCor3D\n",
    "    global A\n",
    "\n",
    "    A.append(P)\n",
    "    for edge in graph.edges(P):\n",
    "        Pj = edge[1]\n",
    "        if(Pj) not in A and distance.euclidean(pointsCor3D[Pj], pointsCor3D[PStar]) < H_glo:\n",
    "            collectPoints1(Pj, PStar)"
   ]
  },
  {
   "cell_type": "code",
   "execution_count": 10,
   "metadata": {},
   "outputs": [],
   "source": [
    "# This function will collect the neighbors of PStar and return a list of this points's index\n",
    "# Param: PStar: the index of the point that we want to find its neighbors\n",
    "# This function will also maintain the dictionary of the distance between points and the weight \n",
    "# between points. \n",
    "def collectPointsNonrec(PStar: int):\n",
    "    \n",
    "    global graph\n",
    "    global pointsCor3D\n",
    "    global distance_dict \n",
    "    global dirty_dict\n",
    "    global H_glo\n",
    "    \n",
    "    toExplore = [PStar]\n",
    "    A = [PStar]\n",
    "    distance_dict[(PStar, PStar)] = 0\n",
    "    weight_dict[((PStar, PStar))] = 1\n",
    "    \n",
    "    while len(toExplore) > 0:\n",
    "        curP = toExplore[0]\n",
    "        del toExplore[0]\n",
    "        for edge in graph.edges(curP):\n",
    "            Pj = edge[1]\n",
    "            if(Pj) not in A:\n",
    "                \n",
    "                # Maintain the dictionary of distance and weight between points\n",
    "                if (Pj, PStar) not in distance_dict or (PStar, Pj) not in distance_dict or \\\n",
    "                dirty_dict[PStar] == 1 or dirty_dict[Pj] == 1:\n",
    "                    dist_temp = distance.euclidean(pointsCor3D[Pj], pointsCor3D[PStar])\n",
    "                    distance_dict[(Pj, PStar)] = dist_temp\n",
    "                    distance_dict[(PStar, Pj)] = dist_temp\n",
    "                    weight_dict[((PStar, Pj))] = weightFun(PStar, Pj)\n",
    "                    weight_dict[((Pj, PStar))] = weightFun(PStar, Pj)\n",
    "                    dirty_dict[Pj] = 0\n",
    "                    dirty_dict[PStar] = 0\n",
    "                    \n",
    "                if distance_dict[(Pj, PStar)] < H_glo:\n",
    "                    toExplore.append(Pj)\n",
    "                    A.append(Pj)\n",
    "    return A"
   ]
  },
  {
   "cell_type": "code",
   "execution_count": 11,
   "metadata": {},
   "outputs": [],
   "source": [
    "def weightFun(P1, P2):\n",
    "    global distance_dict \n",
    "    global dirty_dict\n",
    "    global pointsCor3D\n",
    "    if(P1 == P2):\n",
    "        return 1\n",
    "    return math.exp(-1 * (distance_dict[(P1, P2)]**2)/(H_glo**2))"
   ]
  },
  {
   "cell_type": "code",
   "execution_count": 12,
   "metadata": {},
   "outputs": [],
   "source": [
    "def calculateRegressionPlane(PStar, A: list):\n",
    "    global pointsCor3D\n",
    "    global H_glo\n",
    "    global weight_dict\n",
    "\n",
    "    def f(params):\n",
    "        a, b, c = params \n",
    "        loss = 0\n",
    "        for point in A:\n",
    "            point_cor = pointsCor3D[point]\n",
    "            loss += ((a*point_cor[0] + b*point_cor[1] + c - point_cor[2])**2)*weight_dict[((point, PStar))]\n",
    "            #loss += ((a*point_cor[0] + b*point_cor[1] + c - point_cor[2])**2)*weightFun(PStar, point)\n",
    "        return loss\n",
    "    \n",
    "    initial_guess = [1, 1, 1]\n",
    "    result = optimize.minimize(f, initial_guess, method = 'Nelder-Mead')\n",
    "    \n",
    "    if result.success:\n",
    "        fitted_params = result.x\n",
    "    else:\n",
    "        raise ValueError(result.message)\n",
    "    return fitted_params"
   ]
  },
  {
   "cell_type": "code",
   "execution_count": 13,
   "metadata": {},
   "outputs": [],
   "source": [
    "def projectPoints(params, A: list):\n",
    "    global pointsCor3D\n",
    "    a, b, c = params\n",
    "    normal = np.asarray([a, b, -1])\n",
    "    normal = normal / np.linalg.norm(normal)\n",
    "    pointOnPlane = np.asarray([0, 0, c])\n",
    "    projectionPointsCor = []\n",
    "    for point in A:\n",
    "        point_cor = np.asarray(pointsCor3D[point])\n",
    "        pointToPlaneV = point_cor - pointOnPlane\n",
    "        dist = np.dot(normal, pointToPlaneV)\n",
    "        projectionPointcor = point_cor - dist*normal\n",
    "        projectionPointsCor.append(list(projectionPointcor))\n",
    "    return projectionPointsCor"
   ]
  },
  {
   "cell_type": "code",
   "execution_count": 14,
   "metadata": {},
   "outputs": [],
   "source": [
    "# this function converted the 3D coordinate system of points in a plane to 2D, returns a list of new coordinates\n",
    "# each of them also has x, y and z component but z is equal to 0\n",
    "# this finction also will return the info of the plane, which can be used to convert a 2D coordinate to 3D again\n",
    "# The format of the plane info is [u, v, origin] (u is a unit vector in 3D representing plane's x axis, y is a unit \n",
    "# vector in 3D representing plane's y axis, origin is a coordinate in 3D of plane's origin )\n",
    "def convertTo2DCor(pointsCor, planeParam):\n",
    "    a, b, c = planeParam\n",
    "    origin = np.array([0, 0, c])\n",
    "    u = np.array([0, 0, c]) - np.array([1, 1, a + b + c])\n",
    "    u = u / np.linalg.norm(u)\n",
    "    normal = np.array([a, b, -1])\n",
    "    v = np.cross(u, normal)\n",
    "    v = v / np.linalg.norm(v)\n",
    "    convertedPointsCor = []\n",
    "    \n",
    "    for pointCor in pointsCor:\n",
    "        oriV = np.array(pointCor) - origin\n",
    "        new_x = np.dot(oriV, u)\n",
    "        new_y = np.dot(oriV, v)\n",
    "        convertedPointsCor.append([new_x, new_y, 0])\n",
    "        \n",
    "    planeInfo = [u, v, origin]\n",
    "    \n",
    "    return (convertedPointsCor, planeInfo)\n",
    "    "
   ]
  },
  {
   "cell_type": "code",
   "execution_count": 15,
   "metadata": {},
   "outputs": [],
   "source": [
    "# Param: targetPoint: the index of the point that we want to find its neighbors and their coordinate in 2D \n",
    "# Return: the 2D coordinate of the 3D points and the information of the regression plane, which the points are located\n",
    "# require gloable perameters graph and pointsCor3D\n",
    "\n",
    "def get2DCorFrom3D(targetPoint):\n",
    "    \n",
    "    global graph\n",
    "    global pointsCor3D\n",
    "    \n",
    "    localPoints = collectPointsNonrec(targetPoint)\n",
    "    \n",
    "    params = calculateRegressionPlane(targetPoint, localPoints)\n",
    "\n",
    "    projectionPointsCor = projectPoints(params, localPoints)\n",
    "\n",
    "    points2DCor, planeInfo = convertTo2DCor(projectionPointsCor, params)\n",
    "\n",
    "    return (points2DCor, planeInfo)"
   ]
  },
  {
   "cell_type": "code",
   "execution_count": 16,
   "metadata": {},
   "outputs": [],
   "source": [
    "# This function takes a single point's 2D coordinate and transform it into 3D base on the planeInfo\n",
    "def get3DCorFrom2D(pointCor, planeInfo):\n",
    "    u, v, origin = planeInfo\n",
    "    vectorElem1 = pointCor[0]*u\n",
    "    vectorElem2 = pointCor[1]*v\n",
    "    newCor = vectorElem1 + vectorElem2 + origin\n",
    "    \n",
    "    return newCor"
   ]
  },
  {
   "cell_type": "code",
   "execution_count": 17,
   "metadata": {},
   "outputs": [],
   "source": [
    "#compue the line regression\n",
    "def calculateRegressionLine(pointsCor):\n",
    "    X = np.array([x[0] for x in pointsCor]).reshape(-1, 1)\n",
    "    Y = np.array([x[1] for x in pointsCor]).reshape(-1, 1)\n",
    "    linear_regressor = LinearRegression()  # create object for the class\n",
    "    linear_regressor.fit(X, Y)  # perform linear regression\n",
    "    \n",
    "    return(linear_regressor.coef_[0], linear_regressor.intercept_[0])"
   ]
  },
  {
   "cell_type": "code",
   "execution_count": 18,
   "metadata": {},
   "outputs": [],
   "source": [
    "def rotatePointsCor(pointsCor, lineCoef):\n",
    "    pointsCor = np.array(pointsCor)\n",
    "    theta = math.atan(lineCoef)\n",
    "    c, s = math.cos(theta), math.sin(theta)\n",
    "    R = np.array([(c,-s, 1), (s, c, 1)])\n",
    "    newPointsCor = []\n",
    "    \n",
    "    for point in pointsCor:\n",
    "        newPointsCor.append(R.dot(point))\n",
    "    return np.asarray(newPointsCor)"
   ]
  },
  {
   "cell_type": "code",
   "execution_count": 19,
   "metadata": {},
   "outputs": [],
   "source": [
    "def deleteChild(child:int):\n",
    "    global removedNodeDict\n",
    "    global graph_centerline\n",
    "    global pointsCor3D_centerline\n",
    "    \n",
    "    if(graph_centerline.has_node(child)):\n",
    "        graph_centerline.remove_node(child)\n",
    "    \n",
    "    if(child not in removedNodeDict):\n",
    "        return\n",
    "    \n",
    "    for grandChild in removedNodeDict[child]:\n",
    "        deleteChild(grandChild)"
   ]
  },
  {
   "cell_type": "code",
   "execution_count": 20,
   "metadata": {},
   "outputs": [],
   "source": [
    "def addBackChildren(parent:int, curDepth:int):\n",
    "    global removedNodeDict\n",
    "    global graph_centerline\n",
    "    global pointsCor3D_centerline\n",
    "    \n",
    "    if(parent not in removedNodeDict):\n",
    "        return curDepth\n",
    "    \n",
    "    if(len(removedNodeDict[parent]) == 1):\n",
    "        child = removedNodeDict[parent][0]\n",
    "        parent_cor = pointsCor3D_centerline[parent]\n",
    "        child_cor = pointsCor3D_centerline[child]\n",
    "        graph_centerline.add_edge(parent, child , weight=distance.euclidean(parent_cor, child_cor))\n",
    "        return addBackChildren(removedNodeDict[parent][0], curDepth + 1)\n",
    "    \n",
    "    else:\n",
    "        maxDepth = 0\n",
    "        curChild = -1\n",
    "        \n",
    "        for child in removedNodeDict[parent]:\n",
    "            child = removedNodeDict[parent][0]\n",
    "            parent_cor = pointsCor3D_centerline[parent]\n",
    "            child_cor = pointsCor3D_centerline[child]\n",
    "            graph_centerline.add_edge(parent, child , weight=distance.euclidean(parent_cor, child_cor))\n",
    "            childDepth = addBackChildren(removedNodeDict[parent][0], curDepth + 1)\n",
    "            \n",
    "            if(childDepth < maxDepth):\n",
    "                deleteChild(child)\n",
    "            else:\n",
    "                maxDepth = childDepth\n",
    "                \n",
    "                if(curChild != -1):\n",
    "                    deleteChild(curChild)\n",
    "                    \n",
    "                curChild = child           \n",
    "        return maxDepth\n",
    "     "
   ]
  },
  {
   "cell_type": "code",
   "execution_count": 21,
   "metadata": {},
   "outputs": [],
   "source": [
    "def pointCorToVector(pointCor):\n",
    "    x = pointCor[0]\n",
    "    y = pointCor[1]\n",
    "    z = pointCor[2]\n",
    "    return vector(x, y, z)"
   ]
  },
  {
   "cell_type": "code",
   "execution_count": null,
   "metadata": {},
   "outputs": [],
   "source": [
    "# Uncomment the next line if want to reload from file\n",
    "#filePath = \"mri_label_2016/*.png\"\n",
    "#pointData = ReadPointFromPNG(filePath)\n",
    "\n",
    "# the temp.npy stores the colon data points from 2016 model\n",
    "pointData = np.load('./temp.npy')\n",
    "(graph, pointsCor3D) = getMSTFromDataPoint(pointData, drawMST=True, sampleNumber=5000)"
   ]
  },
  {
   "cell_type": "code",
   "execution_count": null,
   "metadata": {},
   "outputs": [],
   "source": [
    "# the code to move points toward the centerline \n",
    "points_centerline = []\n",
    "# The total number of iterations\n",
    "for iteration in range(2):\n",
    "    points_centerline = []\n",
    "    H_ini = 15\n",
    "    H_delta = 5\n",
    "    H_glo = 0\n",
    "    trial_limit =10\n",
    "    min_neighbors = 40\n",
    "    correlation_threshold = 0.2 + iteration*0.05\n",
    "    weight_dict = {}\n",
    "    distance_dict = {}\n",
    "\n",
    "    # Set up a dirty dictionary to record the points \n",
    "    dirty_dict = {}\n",
    "    for point in range(len(pointsCor3D)):\n",
    "        dirty_dict[point] = 0\n",
    "    results = []\n",
    "    \n",
    "    # We will move 750 points of all the points for each iteration\n",
    "    for targetPoint in range(1000, 1750):\n",
    "        \n",
    "        cur_correlation = 0\n",
    "        H_glo = H_ini\n",
    "        trial = 0\n",
    "        correlation_hist = []\n",
    "        localPointsCor2D_hist = []\n",
    "        planeInfo = 0\n",
    "        localPointsCor2D = []\n",
    "        \n",
    "        # if the correlation of the local points is not sufficient or the number of the local points is not sufficient\n",
    "        # enlarge H_glo and find neighbors again  \n",
    "        while((cur_correlation < correlation_threshold or len(localPointsCor2D) < min_neighbors) \\\n",
    "              and trial < trial_limit):\n",
    "            \n",
    "            localPointsCor2D, planeInfo = get2DCorFrom3D(targetPoint)\n",
    "            slope, intersept = calculateRegressionLine(localPointsCor2D)\n",
    "            rotatedPointsCor = rotatePointsCor(localPointsCor2D, slope)\n",
    "            cur_correlation = abs(np.corrcoef(rotatedPointsCor[:, 0],rotatedPointsCor[:, 1])[0][1])\n",
    "            print(targetPoint, \"trial\",str(trial), \"H =\", H_glo, \":\" , str(cur_correlation), \\\n",
    "                  \"size:\", len(localPointsCor2D))\n",
    "            H_glo += H_delta\n",
    "            trial += 1\n",
    "            correlation_hist.append(cur_correlation)\n",
    "            localPointsCor2D_hist.append(copy.deepcopy(localPointsCor2D))\n",
    "            \n",
    "        localPointsCor2D = localPointsCor2D_hist[correlation_hist.index(max(correlation_hist))]\n",
    "        centerPoint2D = np.asarray(localPointsCor2D)[:1, :2]\n",
    "        newCor = Moving_Least_Square(centerPoint2D[0], np.asarray(localPointsCor2D)[:, :2])\n",
    "        newCor3D = get3DCorFrom2D(newCor, planeInfo)\n",
    "        print(pointsCor3D[targetPoint], newCor3D)\n",
    "        pointsCor3D[targetPoint] = list(newCor3D)\n",
    "        dirty_dict[targetPoint] = 1\n",
    "        results.append(max(correlation_hist))\n",
    "        points_centerline.append(newCor3D)\n",
    "        \n",
    "    displayPoints(points_centerline, 0.5)    "
   ]
  },
  {
   "cell_type": "code",
   "execution_count": 22,
   "metadata": {},
   "outputs": [
    {
     "name": "stdout",
     "output_type": "stream",
     "text": [
      "---------------\n",
      "There are 275 points in total. Now sampleling 275 points from them\n",
      "---------------\n",
      "Done!\n",
      "---------------\n",
      "Begin creating a MST of the sampled points cloud\n",
      "---------------\n",
      "Begin calculating nearby points for each point\n",
      "---------------\n",
      "Nearby points calculation Done!\n",
      "---------------\n",
      "Begin construct graph\n",
      "---------------\n",
      "Graph construction Done!\n",
      "---------------\n",
      "Begin calculate MST\n",
      "---------------\n",
      "MST calculation Done!\n",
      "---------------\n",
      "MST creation Done!\n",
      "269\n"
     ]
    },
    {
     "name": "stderr",
     "output_type": "stream",
     "text": [
      "C:\\Users\\lizif\\Anaconda3\\envs\\MIP3D\\lib\\site-packages\\networkx\\drawing\\nx_pylab.py:611: MatplotlibDeprecationWarning: isinstance(..., numbers.Number)\n",
      "  if cb.is_numlike(alpha):\n"
     ]
    }
   ],
   "source": [
    "# Construct a MST only using the 750 points modified above\n",
    "points_centerline = np.load('demoCenterline.npy')\n",
    "(graph_centerline, pointsCor3D_centerline) = getMSTFromDataPoint(points_centerline, drawMST=True, sampleNumber=750)  \n",
    "\n",
    "# constantly delete the node that only has one edge, until there are only two nodes only having one edge left,\n",
    "# both of them are the endpoints of one singal path representing the colon\n",
    "toRemove = []\n",
    "removedNodeDict = defaultdict(list)\n",
    "\n",
    "while (True):\n",
    "    toRemove = []\n",
    "    for node in graph_centerline.nodes:\n",
    "        if(len(graph_centerline.edges(node)) == 1):\n",
    "            removedNodeDict[list(graph_centerline.edges(node))[0][1]].append(node)\n",
    "            toRemove.append(node)\n",
    "    if(len(toRemove) == 2):\n",
    "        break\n",
    "    for node in toRemove:\n",
    "        graph_centerline.remove_node(node)\n",
    "        \n",
    "endpoints = toRemove\n",
    "print(len(graph_centerline.nodes))\n",
    "\n",
    "# now add back the nodes that got deleted during the triming\n",
    "addBackChildren(endpoints[0], 0)\n",
    "addBackChildren(endpoints[1], 0)\n",
    "\n",
    "# Displat the points on the centerline\n",
    "'''\n",
    "to_display = []\n",
    "for node in graph_centerline.nodes:\n",
    "    to_display.append(pointsCor3D_centerline[node])\n",
    "displayPoints(to_display, 1.3)\n",
    "'''\n",
    "# check if there is more than 2 endpoints\n",
    "new_endpoints = []\n",
    "for node in graph_centerline.nodes:\n",
    "    if(len(graph_centerline.edges(node)) == 1):\n",
    "       new_endpoints.append(node)\n",
    "if(len(new_endpoints) != 2):\n",
    "    print(\"Fatal error: multiple endpoints detected!\")\n",
    "\n",
    "# check if there is more than 2 path\n",
    "path = list(nx.all_simple_paths(graph_centerline, source=new_endpoints[0], target=new_endpoints[1]))\n",
    "if(len(path) != 1):\n",
    "    print(\"Fatal error: multiple path detected!\")\n",
    "    \n",
    "pointsInorder = path[0]"
   ]
  },
  {
   "cell_type": "code",
   "execution_count": 32,
   "metadata": {},
   "outputs": [],
   "source": [
    "c = curve()\n",
    "for pointIndex in pointsInorder:\n",
    "    c.append(pointCorToVector(pointsCor3D_centerline[pointIndex]))"
   ]
  },
  {
   "cell_type": "code",
   "execution_count": 26,
   "metadata": {},
   "outputs": [],
   "source": [
    "displayPoints(np.load('demoAllPoints.npy'), 0.1)"
   ]
  },
  {
   "cell_type": "code",
   "execution_count": 27,
   "metadata": {},
   "outputs": [],
   "source": [
    "displayPoints(np.load('demo5000Befor.npy'), 0.5)"
   ]
  },
  {
   "cell_type": "code",
   "execution_count": 28,
   "metadata": {},
   "outputs": [],
   "source": [
    "displayPoints(np.load('demo750Before.npy'), 0.5)"
   ]
  },
  {
   "cell_type": "code",
   "execution_count": 29,
   "metadata": {},
   "outputs": [],
   "source": [
    "displayPoints(np.load('demo5000After.npy'), 0.5)"
   ]
  },
  {
   "cell_type": "code",
   "execution_count": 30,
   "metadata": {},
   "outputs": [],
   "source": [
    "displayPoints(np.load('demo750After.npy'), 0.5)"
   ]
  },
  {
   "cell_type": "code",
   "execution_count": 31,
   "metadata": {},
   "outputs": [],
   "source": [
    "displayPoints(np.load('demoCenterline.npy'), 0.5)"
   ]
  },
  {
   "cell_type": "code",
   "execution_count": null,
   "metadata": {},
   "outputs": [],
   "source": []
  }
 ],
 "metadata": {
  "kernelspec": {
   "display_name": "Python 3",
   "language": "python",
   "name": "python3"
  },
  "language_info": {
   "codemirror_mode": {
    "name": "ipython",
    "version": 3
   },
   "file_extension": ".py",
   "mimetype": "text/x-python",
   "name": "python",
   "nbconvert_exporter": "python",
   "pygments_lexer": "ipython3",
   "version": "3.7.3"
  }
 },
 "nbformat": 4,
 "nbformat_minor": 2
}
