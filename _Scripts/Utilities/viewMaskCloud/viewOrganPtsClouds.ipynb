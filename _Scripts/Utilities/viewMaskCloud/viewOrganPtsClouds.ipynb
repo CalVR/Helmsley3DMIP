{
 "cells": [
  {
   "cell_type": "code",
   "execution_count": 1,
   "metadata": {},
   "outputs": [],
   "source": [
    "import pptk\n",
    "from color_dict import *\n",
    "import glob\n",
    "import re\n",
    "from PIL import Image \n",
    "import numpy as np\n",
    "import progressbar"
   ]
  },
  {
   "cell_type": "code",
   "execution_count": 2,
   "metadata": {},
   "outputs": [],
   "source": [
    "# This function will invoke a pptk viewer to render the points \n",
    "# Param: data: an array of points coordinate. Each point's coordinate should has the format of [x, y, z]\n",
    "#       pointSize: the size of the point to be rendered on the screen\n",
    "# Return: none\n",
    "\n",
    "def displayPoints(data, color, pointSize):\n",
    "    v = pptk.viewer(data)\n",
    "    v.attributes(color)\n",
    "    v.set(point_size=pointSize)"
   ]
  },
  {
   "cell_type": "code",
   "execution_count": 3,
   "metadata": {},
   "outputs": [],
   "source": [
    "organData = [np.ones((1, 3)) for x in range(len(COLOR_DICT))]\n",
    "organColor = [np.ones((1, 3)) for x in range(len(COLOR_DICT))]\n",
    "unsureLoc = np.ones((1, 3))\n",
    "pngPath = \".\\masksToView_noisy\\*.png\"\n",
    "path_list = [im_path for im_path in glob.glob(pngPath)]\n",
    "path_list_parsed = [re.split('\\\\\\\\|\\.', path) for path in path_list]\n",
    "path_list_parsed_valid = [x for x in path_list_parsed if x[-1] == 'png']\n",
    "path_list_parsed_valid = sorted(path_list_parsed_valid, key=lambda x:int(x[-2]))\n",
    "volume = []\n",
    "depthCounter = 0\n",
    "\n",
    "for path in path_list_parsed_valid:\n",
    "    s = \"\\\\\"\n",
    "    path = [f for f in path if f != '']\n",
    "    s = s.join(path)\n",
    "    s = s[:-4] + '.png'\n",
    "    maskArray = np.array(Image.open(s))\n",
    "    \n",
    "    for i in range(len(COLOR_DICT)):\n",
    "        \n",
    "        index = np.where(np.all(maskArray == COLOR_DICT[i], axis = 2))\n",
    "        zCor = np.zeros(len(index[0])) + depthCounter\n",
    "        \n",
    "        if(np.array_equal(COLOR_DICT[i], Unsure_color)):\n",
    "            # Make the unsure location blank so that it won't affect the whole volume \n",
    "            maskArray[index[0], index[1]] = Unlabelled_color\n",
    "            curUnsure = np.dstack((zCor, index[0], index[1]))[0]\n",
    "            unsureLoc = np.concatenate((unsureLoc, curUnsure))\n",
    "        else:\n",
    "            newCors = np.dstack((zCor, index[0], index[1]))[0]\n",
    "            organData[i] = np.concatenate((organData[i], (newCors)))\n",
    "        \n",
    "    depthCounter += 1\n",
    "    volume.append(maskArray)"
   ]
  },
  {
   "cell_type": "code",
   "execution_count": 4,
   "metadata": {},
   "outputs": [
    {
     "data": {
      "text/plain": [
       "(29495, 3)"
      ]
     },
     "execution_count": 4,
     "metadata": {},
     "output_type": "execute_result"
    }
   ],
   "source": [
    "organData[4].shape"
   ]
  },
  {
   "cell_type": "code",
   "execution_count": 5,
   "metadata": {},
   "outputs": [
    {
     "name": "stderr",
     "output_type": "stream",
     "text": [
      "100% (103270 of 103270) |################| Elapsed Time: 0:00:03 Time:  0:00:03\n"
     ]
    }
   ],
   "source": [
    "volume = np.array(volume)\n",
    "half_ws = 4\n",
    "\n",
    "# Making a coordinate cube \n",
    "cube = np.mgrid[-half_ws:half_ws+1,-half_ws:half_ws+1,-half_ws:half_ws+1]\n",
    "cube = np.stack((cube[0], cube[1], cube[2]), axis=3)\n",
    "cube = np.reshape(cube, ((2*half_ws + 1)**3, 3))\n",
    "\n",
    "with progressbar.ProgressBar(max_value=len(unsureLoc)) as bar:\n",
    "    counter = 0\n",
    "    \n",
    "    # Iterate through every possible unsure points. Can be improved furthur\n",
    "    for loc in unsureLoc[::500]:\n",
    "        neighbors = cube + loc\n",
    "        volumeBoundary = [volume.shape[0]-1, volume.shape[1]-1, volume.shape[2]-1]\n",
    "        neighbors = np.clip(neighbors, [0, 0, 0], volumeBoundary)\n",
    "        # Don't use int8\n",
    "        neighbors = neighbors.astype('int16')\n",
    "        neighborValue = volume[neighbors[:, 0], neighbors[:, 1], neighbors[:, 2]]\n",
    "        neighborCount = np.zeros((len(COLOR_DICT)))\n",
    "\n",
    "        for i in range(len(COLOR_DICT)):\n",
    "            \n",
    "            if(not np.array_equal(COLOR_DICT[i], Unsure_color)):\n",
    "                index = np.where(np.all(neighborValue == COLOR_DICT[i], axis = 1))\n",
    "                neighborCount[i] += len(index[0])\n",
    "                \n",
    "                # Uncomment the next line to show neighbor boxs \n",
    "                organData[3] = np.concatenate((organData[3], neighbors))\n",
    "                #organData[3] = np.concatenate((organData[3], loc.reshape(1, 3)))\n",
    "        \n",
    "        # Ignore the unsure points who don't have any valid neighbors at all\n",
    "        if(neighborCount.sum() > 0):\n",
    "            correction = np.argmax(neighborCount)\n",
    "            organData[correction] = np.append(organData[correction], loc.reshape(1, 3), axis=0)\n",
    "\n",
    "        counter += 1\n",
    "        bar.update(counter)"
   ]
  },
  {
   "cell_type": "code",
   "execution_count": 6,
   "metadata": {},
   "outputs": [
    {
     "data": {
      "text/plain": [
       "(29511, 3)"
      ]
     },
     "execution_count": 6,
     "metadata": {},
     "output_type": "execute_result"
    }
   ],
   "source": [
    "organData[4].shape"
   ]
  },
  {
   "cell_type": "code",
   "execution_count": 7,
   "metadata": {},
   "outputs": [],
   "source": [
    "for i in range(len(COLOR_DICT)):\n",
    "    if(1 or not np.array_equal(COLOR_DICT[i], Unsure_color)):\n",
    "        organColor[i] = np.zeros(organData[i].shape) + COLOR_DICT[i]"
   ]
  },
  {
   "cell_type": "code",
   "execution_count": 8,
   "metadata": {},
   "outputs": [],
   "source": [
    "allOrganPts = np.concatenate(organData)\n",
    "allOrganCol = np.concatenate(organColor)"
   ]
  },
  {
   "cell_type": "code",
   "execution_count": 9,
   "metadata": {},
   "outputs": [],
   "source": [
    "displayPoints(allOrganPts[1::], allOrganCol[1::], 0.5)"
   ]
  },
  {
   "cell_type": "code",
   "execution_count": null,
   "metadata": {},
   "outputs": [],
   "source": []
  },
  {
   "cell_type": "code",
   "execution_count": null,
   "metadata": {},
   "outputs": [],
   "source": []
  }
 ],
 "metadata": {
  "kernelspec": {
   "display_name": "Python 3",
   "language": "python",
   "name": "python3"
  },
  "language_info": {
   "codemirror_mode": {
    "name": "ipython",
    "version": 3
   },
   "file_extension": ".py",
   "mimetype": "text/x-python",
   "name": "python",
   "nbconvert_exporter": "python",
   "pygments_lexer": "ipython3",
   "version": "3.6.8"
  }
 },
 "nbformat": 4,
 "nbformat_minor": 2
}
