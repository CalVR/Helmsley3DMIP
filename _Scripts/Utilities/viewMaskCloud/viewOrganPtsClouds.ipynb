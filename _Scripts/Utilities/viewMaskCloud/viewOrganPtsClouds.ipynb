{
 "cells": [
  {
   "cell_type": "code",
   "execution_count": 1,
   "metadata": {},
   "outputs": [],
   "source": [
    "import pptk\n",
    "from color_dict import COLOR_DICT\n",
    "import glob\n",
    "import re\n",
    "from PIL import Image \n",
    "import numpy as np"
   ]
  },
  {
   "cell_type": "code",
   "execution_count": 2,
   "metadata": {},
   "outputs": [],
   "source": [
    "# This function will invoke a pptk viewer to render the points \n",
    "# Param: data: an array of points coordinate. Each point's coordinate should has the format of [x, y, z]\n",
    "#       pointSize: the size of the point to be rendered on the screen\n",
    "# Return: none\n",
    "\n",
    "def displayPoints(data, color, pointSize):\n",
    "    v = pptk.viewer(data)\n",
    "    v.attributes(color)\n",
    "    v.set(point_size=pointSize)"
   ]
  },
  {
   "cell_type": "code",
   "execution_count": 3,
   "metadata": {},
   "outputs": [],
   "source": [
    "organData = [np.empty((1, 3)) for x in range(len(COLOR_DICT))]\n",
    "organColor = [np.empty((1, 3)) for x in range(len(COLOR_DICT))]\n",
    "pngPath = \".\\masksToView\\*.png\"\n",
    "path_list = [im_path for im_path in glob.glob(pngPath)]\n",
    "path_list_parsed = [re.split('\\\\\\\\|\\.', path) for path in path_list]\n",
    "path_list_parsed_valid = [x for x in path_list_parsed if x[-1] == 'png']\n",
    "path_list_parsed_valid = sorted(path_list_parsed_valid, key=lambda x:int(x[-2]))\n",
    "all_pngs = []\n",
    "#print(path_list_parsed_valid)\n",
    "\n",
    "depthCounter = len(path_list_parsed_valid)\n",
    "\n",
    "for path in path_list_parsed_valid:\n",
    "    s = \"\\\\\"\n",
    "    path = [f for f in path if f != '']\n",
    "    s = s.join(path)\n",
    "    s = s[:-4] + '.png'\n",
    "    maskArray = np.array(Image.open(s))\n",
    "    \n",
    "    for i in range(len(COLOR_DICT)):\n",
    "        \n",
    "        index = np.where(np.all(maskArray == COLOR_DICT[i], axis = 2))\n",
    "        zCor = np.zeros(len(index[0])) + depthCounter\n",
    "        newCors = np.dstack((index[0], index[1], zCor))[0]\n",
    "        organData[i] = np.concatenate((organData[i], (newCors)))\n",
    "    \n",
    "    depthCounter -= 1\n",
    "\n",
    "for i in range(len(COLOR_DICT)):\n",
    "    organColor[i] = np.zeros(organData[i].shape) + COLOR_DICT[i]"
   ]
  },
  {
   "cell_type": "code",
   "execution_count": 4,
   "metadata": {},
   "outputs": [],
   "source": [
    "allOrganPts = np.concatenate(organData)\n",
    "allOrganCol = np.concatenate(organColor)"
   ]
  },
  {
   "cell_type": "code",
   "execution_count": 5,
   "metadata": {},
   "outputs": [],
   "source": [
    "displayPoints(allOrganPts[1::], allOrganCol[1::], 0.5)"
   ]
  },
  {
   "cell_type": "code",
   "execution_count": null,
   "metadata": {},
   "outputs": [],
   "source": []
  }
 ],
 "metadata": {
  "kernelspec": {
   "display_name": "Python 3",
   "language": "python",
   "name": "python3"
  },
  "language_info": {
   "codemirror_mode": {
    "name": "ipython",
    "version": 3
   },
   "file_extension": ".py",
   "mimetype": "text/x-python",
   "name": "python",
   "nbconvert_exporter": "python",
   "pygments_lexer": "ipython3",
   "version": "3.6.8"
  }
 },
 "nbformat": 4,
 "nbformat_minor": 2
}
