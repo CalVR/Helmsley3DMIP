{
 "cells": [
  {
   "cell_type": "code",
   "execution_count": 1,
   "metadata": {},
   "outputs": [],
   "source": [
    "import pptk\n",
    "from color_dict import *\n",
    "import glob\n",
    "import re\n",
    "from PIL import Image \n",
    "import numpy as np\n",
    "import progressbar"
   ]
  },
  {
   "cell_type": "code",
   "execution_count": 2,
   "metadata": {},
   "outputs": [],
   "source": [
    "# This function will invoke a pptk viewer to render the points \n",
    "# Param: data: an array of points coordinate. Each point's coordinate should has the format of [x, y, z]\n",
    "#       pointSize: the size of the point to be rendered on the screen\n",
    "# Return: none\n",
    "\n",
    "def displayPoints(data, color, pointSize):\n",
    "    v = pptk.viewer(data)\n",
    "    v.attributes(color)\n",
    "    v.set(point_size=pointSize)"
   ]
  },
  {
   "cell_type": "code",
   "execution_count": 3,
   "metadata": {},
   "outputs": [],
   "source": [
    "organData = [np.ones((1, 3)) for x in range(len(COLOR_DICT))]\n",
    "organColor = [np.ones((1, 3)) for x in range(len(COLOR_DICT))]\n",
    "unsureLoc = np.ones((1, 3))\n",
    "pngPath = \".\\masksToView_noisy\\*.png\"\n",
    "path_list = [im_path for im_path in glob.glob(pngPath)]\n",
    "path_list_parsed = [re.split('\\\\\\\\|\\.', path) for path in path_list]\n",
    "path_list_parsed_valid = [x for x in path_list_parsed if x[-1] == 'png']\n",
    "path_list_parsed_valid = sorted(path_list_parsed_valid, key=lambda x:int(x[-2]))\n",
    "volume = []\n",
    "depthCounter = 0\n",
    "\n",
    "for path in path_list_parsed_valid:\n",
    "    s = \"\\\\\"\n",
    "    path = [f for f in path if f != '']\n",
    "    s = s.join(path)\n",
    "    s = s[:-4] + '.png'\n",
    "    maskArray = np.array(Image.open(s))\n",
    "    \n",
    "    for i in range(len(COLOR_DICT)):\n",
    "        \n",
    "        index = np.where(np.all(maskArray == COLOR_DICT[i], axis = 2))\n",
    "        zCor = np.zeros(len(index[0])) + depthCounter\n",
    "        \n",
    "        if(np.array_equal(COLOR_DICT[i], Unsure_color)):\n",
    "            # Make the unsure location blank so that it won't affect the whole volume \n",
    "            maskArray[index[0], index[1]] = Unlabelled_color\n",
    "            curUnsure = np.dstack((zCor, index[0], index[1]))[0]\n",
    "            unsureLoc = np.concatenate((unsureLoc, curUnsure))\n",
    "        else:\n",
    "            newCors = np.dstack((zCor, index[0], index[1]))[0]\n",
    "            organData[i] = np.concatenate((organData[i], (newCors)))\n",
    "        \n",
    "    depthCounter += 1\n",
    "    volume.append(maskArray)"
   ]
  },
  {
   "cell_type": "code",
   "execution_count": 6,
   "metadata": {},
   "outputs": [
    {
     "name": "stderr",
     "output_type": "stream",
     "text": [
      "100% (103270 of 103270) |################| Elapsed Time: 0:00:04 Time:  0:00:04\n"
     ]
    },
    {
     "ename": "KeyboardInterrupt",
     "evalue": "",
     "output_type": "error",
     "traceback": [
      "\u001b[1;31m---------------------------------------------------------------------------\u001b[0m",
      "\u001b[1;31mKeyboardInterrupt\u001b[0m                         Traceback (most recent call last)",
      "\u001b[1;32m<ipython-input-6-000c8c0f30d3>\u001b[0m in \u001b[0;36m<module>\u001b[1;34m\u001b[0m\n\u001b[0;32m     15\u001b[0m         \u001b[0mneighbors\u001b[0m \u001b[1;33m=\u001b[0m \u001b[0mcube\u001b[0m \u001b[1;33m+\u001b[0m \u001b[0mloc\u001b[0m\u001b[1;33m\u001b[0m\u001b[1;33m\u001b[0m\u001b[0m\n\u001b[0;32m     16\u001b[0m         \u001b[0mvolumeBoundary\u001b[0m \u001b[1;33m=\u001b[0m \u001b[1;33m[\u001b[0m\u001b[0mvolume\u001b[0m\u001b[1;33m.\u001b[0m\u001b[0mshape\u001b[0m\u001b[1;33m[\u001b[0m\u001b[1;36m0\u001b[0m\u001b[1;33m]\u001b[0m\u001b[1;33m-\u001b[0m\u001b[1;36m1\u001b[0m\u001b[1;33m,\u001b[0m \u001b[0mvolume\u001b[0m\u001b[1;33m.\u001b[0m\u001b[0mshape\u001b[0m\u001b[1;33m[\u001b[0m\u001b[1;36m1\u001b[0m\u001b[1;33m]\u001b[0m\u001b[1;33m-\u001b[0m\u001b[1;36m1\u001b[0m\u001b[1;33m,\u001b[0m \u001b[0mvolume\u001b[0m\u001b[1;33m.\u001b[0m\u001b[0mshape\u001b[0m\u001b[1;33m[\u001b[0m\u001b[1;36m2\u001b[0m\u001b[1;33m]\u001b[0m\u001b[1;33m-\u001b[0m\u001b[1;36m1\u001b[0m\u001b[1;33m]\u001b[0m\u001b[1;33m\u001b[0m\u001b[1;33m\u001b[0m\u001b[0m\n\u001b[1;32m---> 17\u001b[1;33m         \u001b[0mneighbors\u001b[0m \u001b[1;33m=\u001b[0m \u001b[0mnp\u001b[0m\u001b[1;33m.\u001b[0m\u001b[0mclip\u001b[0m\u001b[1;33m(\u001b[0m\u001b[0mneighbors\u001b[0m\u001b[1;33m,\u001b[0m \u001b[1;33m[\u001b[0m\u001b[1;36m0\u001b[0m\u001b[1;33m,\u001b[0m \u001b[1;36m0\u001b[0m\u001b[1;33m,\u001b[0m \u001b[1;36m0\u001b[0m\u001b[1;33m]\u001b[0m\u001b[1;33m,\u001b[0m \u001b[0mvolumeBoundary\u001b[0m\u001b[1;33m)\u001b[0m\u001b[1;33m\u001b[0m\u001b[1;33m\u001b[0m\u001b[0m\n\u001b[0m\u001b[0;32m     18\u001b[0m         \u001b[1;31m# Don't use int8\u001b[0m\u001b[1;33m\u001b[0m\u001b[1;33m\u001b[0m\u001b[1;33m\u001b[0m\u001b[0m\n\u001b[0;32m     19\u001b[0m         \u001b[0mneighbors\u001b[0m \u001b[1;33m=\u001b[0m \u001b[0mneighbors\u001b[0m\u001b[1;33m.\u001b[0m\u001b[0mastype\u001b[0m\u001b[1;33m(\u001b[0m\u001b[1;34m'int16'\u001b[0m\u001b[1;33m)\u001b[0m\u001b[1;33m\u001b[0m\u001b[1;33m\u001b[0m\u001b[0m\n",
      "\u001b[1;32m~\\Anaconda3\\envs\\Helmsley3DMIP\\lib\\site-packages\\numpy\\core\\fromnumeric.py\u001b[0m in \u001b[0;36mclip\u001b[1;34m(a, a_min, a_max, out)\u001b[0m\n\u001b[0;32m   1956\u001b[0m \u001b[1;33m\u001b[0m\u001b[0m\n\u001b[0;32m   1957\u001b[0m     \"\"\"\n\u001b[1;32m-> 1958\u001b[1;33m     \u001b[1;32mreturn\u001b[0m \u001b[0m_wrapfunc\u001b[0m\u001b[1;33m(\u001b[0m\u001b[0ma\u001b[0m\u001b[1;33m,\u001b[0m \u001b[1;34m'clip'\u001b[0m\u001b[1;33m,\u001b[0m \u001b[0ma_min\u001b[0m\u001b[1;33m,\u001b[0m \u001b[0ma_max\u001b[0m\u001b[1;33m,\u001b[0m \u001b[0mout\u001b[0m\u001b[1;33m=\u001b[0m\u001b[0mout\u001b[0m\u001b[1;33m)\u001b[0m\u001b[1;33m\u001b[0m\u001b[1;33m\u001b[0m\u001b[0m\n\u001b[0m\u001b[0;32m   1959\u001b[0m \u001b[1;33m\u001b[0m\u001b[0m\n\u001b[0;32m   1960\u001b[0m \u001b[1;33m\u001b[0m\u001b[0m\n",
      "\u001b[1;32m~\\Anaconda3\\envs\\Helmsley3DMIP\\lib\\site-packages\\numpy\\core\\fromnumeric.py\u001b[0m in \u001b[0;36m_wrapfunc\u001b[1;34m(obj, method, *args, **kwds)\u001b[0m\n\u001b[0;32m     54\u001b[0m \u001b[1;32mdef\u001b[0m \u001b[0m_wrapfunc\u001b[0m\u001b[1;33m(\u001b[0m\u001b[0mobj\u001b[0m\u001b[1;33m,\u001b[0m \u001b[0mmethod\u001b[0m\u001b[1;33m,\u001b[0m \u001b[1;33m*\u001b[0m\u001b[0margs\u001b[0m\u001b[1;33m,\u001b[0m \u001b[1;33m**\u001b[0m\u001b[0mkwds\u001b[0m\u001b[1;33m)\u001b[0m\u001b[1;33m:\u001b[0m\u001b[1;33m\u001b[0m\u001b[1;33m\u001b[0m\u001b[0m\n\u001b[0;32m     55\u001b[0m     \u001b[1;32mtry\u001b[0m\u001b[1;33m:\u001b[0m\u001b[1;33m\u001b[0m\u001b[1;33m\u001b[0m\u001b[0m\n\u001b[1;32m---> 56\u001b[1;33m         \u001b[1;32mreturn\u001b[0m \u001b[0mgetattr\u001b[0m\u001b[1;33m(\u001b[0m\u001b[0mobj\u001b[0m\u001b[1;33m,\u001b[0m \u001b[0mmethod\u001b[0m\u001b[1;33m)\u001b[0m\u001b[1;33m(\u001b[0m\u001b[1;33m*\u001b[0m\u001b[0margs\u001b[0m\u001b[1;33m,\u001b[0m \u001b[1;33m**\u001b[0m\u001b[0mkwds\u001b[0m\u001b[1;33m)\u001b[0m\u001b[1;33m\u001b[0m\u001b[1;33m\u001b[0m\u001b[0m\n\u001b[0m\u001b[0;32m     57\u001b[0m \u001b[1;33m\u001b[0m\u001b[0m\n\u001b[0;32m     58\u001b[0m     \u001b[1;31m# An AttributeError occurs if the object does not have\u001b[0m\u001b[1;33m\u001b[0m\u001b[1;33m\u001b[0m\u001b[1;33m\u001b[0m\u001b[0m\n",
      "\u001b[1;31mKeyboardInterrupt\u001b[0m: "
     ]
    }
   ],
   "source": [
    "volume = np.array(volume)\n",
    "half_ws = 4\n",
    "\n",
    "# Making a coordinate cube \n",
    "cube = np.mgrid[-half_ws:half_ws+1,-half_ws:half_ws+1,-half_ws:half_ws+1]\n",
    "cube = np.stack((cube[0], cube[1], cube[2]), axis=3)\n",
    "cube = np.reshape(cube, ((2*half_ws + 1)**3, 3))\n",
    "\n",
    "with progressbar.ProgressBar(max_value=len(unsureLoc)) as bar:\n",
    "    counter = 0\n",
    "    \n",
    "    # Iterate through every possible unsure points. Can be improved furthur\n",
    "    for loc in unsureLoc:\n",
    "        neighbors = cube + loc\n",
    "        volumeBoundary = [volume.shape[0]-1, volume.shape[1]-1, volume.shape[2]-1]\n",
    "        neighbors = np.clip(neighbors, [0, 0, 0], volumeBoundary)\n",
    "        # Don't use int8\n",
    "        neighbors = neighbors.astype('int16')\n",
    "        neighborValue = volume[neighbors[:, 0], neighbors[:, 1], neighbors[:, 2]]\n",
    "        neighborCount = np.zeros((len(COLOR_DICT)))\n",
    "\n",
    "        for i in range(len(COLOR_DICT)):\n",
    "            \n",
    "            if(not np.array_equal(COLOR_DICT[i], Unsure_color)):\n",
    "                index = np.where(np.all(neighborValue == COLOR_DICT[i], axis = 1))\n",
    "                neighborCount[i] += len(index[0])\n",
    "        \n",
    "        # Ignore the unsure point who don't have any neighbors at all\n",
    "        if(neighborCount.sum() > 0):\n",
    "            correction = np.argmax(neighborCount)\n",
    "            #organData[correction] = np.append(organData[correction], loc.reshape(1, 3))\n",
    "\n",
    "        counter += 1\n",
    "        bar.update(counter)"
   ]
  },
  {
   "cell_type": "code",
   "execution_count": 5,
   "metadata": {},
   "outputs": [],
   "source": [
    "for i in range(len(COLOR_DICT)):\n",
    "    if(1 or not np.array_equal(COLOR_DICT[i], Unsure_color)):\n",
    "        organColor[i] = np.zeros(organData[i].shape) + COLOR_DICT[i]"
   ]
  },
  {
   "cell_type": "code",
   "execution_count": 6,
   "metadata": {},
   "outputs": [],
   "source": [
    "allOrganPts = np.concatenate(organData)\n",
    "allOrganCol = np.concatenate(organColor)"
   ]
  },
  {
   "cell_type": "code",
   "execution_count": 7,
   "metadata": {},
   "outputs": [],
   "source": [
    "displayPoints(allOrganPts[1::], allOrganCol[1::], 0.5)"
   ]
  },
  {
   "cell_type": "code",
   "execution_count": null,
   "metadata": {},
   "outputs": [],
   "source": []
  },
  {
   "cell_type": "code",
   "execution_count": null,
   "metadata": {},
   "outputs": [],
   "source": []
  }
 ],
 "metadata": {
  "kernelspec": {
   "display_name": "Python 3",
   "language": "python",
   "name": "python3"
  },
  "language_info": {
   "codemirror_mode": {
    "name": "ipython",
    "version": 3
   },
   "file_extension": ".py",
   "mimetype": "text/x-python",
   "name": "python",
   "nbconvert_exporter": "python",
   "pygments_lexer": "ipython3",
   "version": "3.6.8"
  }
 },
 "nbformat": 4,
 "nbformat_minor": 2
}
