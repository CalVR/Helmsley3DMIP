{
 "cells": [
  {
   "cell_type": "code",
   "execution_count": 1,
   "metadata": {},
   "outputs": [],
   "source": [
    "import pptk\n",
    "from color_dict import *\n",
    "import glob\n",
    "import re\n",
    "from PIL import Image \n",
    "import numpy as np"
   ]
  },
  {
   "cell_type": "code",
   "execution_count": 2,
   "metadata": {},
   "outputs": [],
   "source": [
    "# This function will invoke a pptk viewer to render the points \n",
    "# Param: data: an array of points coordinate. Each point's coordinate should has the format of [x, y, z]\n",
    "#       pointSize: the size of the point to be rendered on the screen\n",
    "# Return: none\n",
    "\n",
    "def displayPoints(data, color, pointSize):\n",
    "    v = pptk.viewer(data)\n",
    "    v.attributes(color)\n",
    "    v.set(point_size=pointSize)"
   ]
  },
  {
   "cell_type": "code",
   "execution_count": 7,
   "metadata": {},
   "outputs": [],
   "source": [
    "organData = [np.ones((1, 3)) for x in range(len(COLOR_DICT))]\n",
    "organColor = [np.ones((1, 3)) for x in range(len(COLOR_DICT))]\n",
    "unsureLoc = np.ones((1, 3))\n",
    "\n",
    "pngPath = \".\\masksToView_noisy\\*.png\"\n",
    "path_list = [im_path for im_path in glob.glob(pngPath)]\n",
    "path_list_parsed = [re.split('\\\\\\\\|\\.', path) for path in path_list]\n",
    "path_list_parsed_valid = [x for x in path_list_parsed if x[-1] == 'png']\n",
    "path_list_parsed_valid = sorted(path_list_parsed_valid, key=lambda x:int(x[-2]))\n",
    "all_pngs = []\n",
    "#print(path_list_parsed_valid)\n",
    "\n",
    "depthCounter = len(path_list_parsed_valid)\n",
    "\n",
    "for path in path_list_parsed_valid:\n",
    "    s = \"\\\\\"\n",
    "    path = [f for f in path if f != '']\n",
    "    s = s.join(path)\n",
    "    s = s[:-4] + '.png'\n",
    "    maskArray = np.array(Image.open(s))\n",
    "    \n",
    "    for i in range(len(COLOR_DICT)):\n",
    "        \n",
    "        index = np.where(np.all(maskArray == COLOR_DICT[i], axis = 2))\n",
    "        zCor = np.zeros(len(index[0])) + depthCounter\n",
    "        \n",
    "        if(np.array_equal(COLOR_DICT[i], Unsure_color)):\n",
    "            curUnsure = np.dstack((index[0], index[1], zCor))[0]\n",
    "            unsureLoc = np.concatenate((unsureLoc, curUnsure))\n",
    "        else:\n",
    "            newCors = np.dstack((index[0], index[1], zCor))[0]\n",
    "            organData[i] = np.concatenate((organData[i], (newCors)))\n",
    "        \n",
    "    depthCounter -= 1\n",
    "\n",
    "window_size = 5\n",
    "\n",
    "cube = np.mgrid[0:5,0:5,0:5]\n",
    "cube = np.stack((cube[0], cube[1], cube[2]), axis=3)\n",
    "cube = np.reshape(cube, (125, 3))\n",
    "\n",
    "for loc in unsureLoc:\n",
    "    neighbors = \n",
    "    \n",
    "for i in range(len(COLOR_DICT)):\n",
    "    organColor[i] = np.zeros(organData[i].shape) + COLOR_DICT[i]"
   ]
  },
  {
   "cell_type": "code",
   "execution_count": 8,
   "metadata": {},
   "outputs": [
    {
     "name": "stdout",
     "output_type": "stream",
     "text": [
      "1 103270\n"
     ]
    }
   ],
   "source": [
    "print(len(organData[3]), len(unsureLoc))"
   ]
  },
  {
   "cell_type": "code",
   "execution_count": 9,
   "metadata": {},
   "outputs": [],
   "source": [
    "allOrganPts = np.concatenate(organData)\n",
    "allOrganCol = np.concatenate(organColor)"
   ]
  },
  {
   "cell_type": "code",
   "execution_count": 10,
   "metadata": {},
   "outputs": [],
   "source": [
    "displayPoints(allOrganPts[1::10], allOrganCol[1::10], 0.5)"
   ]
  },
  {
   "cell_type": "code",
   "execution_count": 15,
   "metadata": {},
   "outputs": [],
   "source": [
    "displayPoints(unsureLoc[1::100], unsureLoc[1::100], 0.5)"
   ]
  },
  {
   "cell_type": "code",
   "execution_count": 48,
   "metadata": {},
   "outputs": [],
   "source": []
  },
  {
   "cell_type": "code",
   "execution_count": 49,
   "metadata": {},
   "outputs": [],
   "source": []
  },
  {
   "cell_type": "code",
   "execution_count": 51,
   "metadata": {},
   "outputs": [],
   "source": []
  },
  {
   "cell_type": "code",
   "execution_count": 52,
   "metadata": {},
   "outputs": [
    {
     "data": {
      "text/plain": [
       "array([[0, 0, 0],\n",
       "       [0, 0, 1],\n",
       "       [0, 0, 2],\n",
       "       [0, 0, 3],\n",
       "       [0, 0, 4],\n",
       "       [0, 1, 0],\n",
       "       [0, 1, 1],\n",
       "       [0, 1, 2],\n",
       "       [0, 1, 3],\n",
       "       [0, 1, 4],\n",
       "       [0, 2, 0],\n",
       "       [0, 2, 1],\n",
       "       [0, 2, 2],\n",
       "       [0, 2, 3],\n",
       "       [0, 2, 4],\n",
       "       [0, 3, 0],\n",
       "       [0, 3, 1],\n",
       "       [0, 3, 2],\n",
       "       [0, 3, 3],\n",
       "       [0, 3, 4],\n",
       "       [0, 4, 0],\n",
       "       [0, 4, 1],\n",
       "       [0, 4, 2],\n",
       "       [0, 4, 3],\n",
       "       [0, 4, 4],\n",
       "       [1, 0, 0],\n",
       "       [1, 0, 1],\n",
       "       [1, 0, 2],\n",
       "       [1, 0, 3],\n",
       "       [1, 0, 4],\n",
       "       [1, 1, 0],\n",
       "       [1, 1, 1],\n",
       "       [1, 1, 2],\n",
       "       [1, 1, 3],\n",
       "       [1, 1, 4],\n",
       "       [1, 2, 0],\n",
       "       [1, 2, 1],\n",
       "       [1, 2, 2],\n",
       "       [1, 2, 3],\n",
       "       [1, 2, 4],\n",
       "       [1, 3, 0],\n",
       "       [1, 3, 1],\n",
       "       [1, 3, 2],\n",
       "       [1, 3, 3],\n",
       "       [1, 3, 4],\n",
       "       [1, 4, 0],\n",
       "       [1, 4, 1],\n",
       "       [1, 4, 2],\n",
       "       [1, 4, 3],\n",
       "       [1, 4, 4],\n",
       "       [2, 0, 0],\n",
       "       [2, 0, 1],\n",
       "       [2, 0, 2],\n",
       "       [2, 0, 3],\n",
       "       [2, 0, 4],\n",
       "       [2, 1, 0],\n",
       "       [2, 1, 1],\n",
       "       [2, 1, 2],\n",
       "       [2, 1, 3],\n",
       "       [2, 1, 4],\n",
       "       [2, 2, 0],\n",
       "       [2, 2, 1],\n",
       "       [2, 2, 2],\n",
       "       [2, 2, 3],\n",
       "       [2, 2, 4],\n",
       "       [2, 3, 0],\n",
       "       [2, 3, 1],\n",
       "       [2, 3, 2],\n",
       "       [2, 3, 3],\n",
       "       [2, 3, 4],\n",
       "       [2, 4, 0],\n",
       "       [2, 4, 1],\n",
       "       [2, 4, 2],\n",
       "       [2, 4, 3],\n",
       "       [2, 4, 4],\n",
       "       [3, 0, 0],\n",
       "       [3, 0, 1],\n",
       "       [3, 0, 2],\n",
       "       [3, 0, 3],\n",
       "       [3, 0, 4],\n",
       "       [3, 1, 0],\n",
       "       [3, 1, 1],\n",
       "       [3, 1, 2],\n",
       "       [3, 1, 3],\n",
       "       [3, 1, 4],\n",
       "       [3, 2, 0],\n",
       "       [3, 2, 1],\n",
       "       [3, 2, 2],\n",
       "       [3, 2, 3],\n",
       "       [3, 2, 4],\n",
       "       [3, 3, 0],\n",
       "       [3, 3, 1],\n",
       "       [3, 3, 2],\n",
       "       [3, 3, 3],\n",
       "       [3, 3, 4],\n",
       "       [3, 4, 0],\n",
       "       [3, 4, 1],\n",
       "       [3, 4, 2],\n",
       "       [3, 4, 3],\n",
       "       [3, 4, 4],\n",
       "       [4, 0, 0],\n",
       "       [4, 0, 1],\n",
       "       [4, 0, 2],\n",
       "       [4, 0, 3],\n",
       "       [4, 0, 4],\n",
       "       [4, 1, 0],\n",
       "       [4, 1, 1],\n",
       "       [4, 1, 2],\n",
       "       [4, 1, 3],\n",
       "       [4, 1, 4],\n",
       "       [4, 2, 0],\n",
       "       [4, 2, 1],\n",
       "       [4, 2, 2],\n",
       "       [4, 2, 3],\n",
       "       [4, 2, 4],\n",
       "       [4, 3, 0],\n",
       "       [4, 3, 1],\n",
       "       [4, 3, 2],\n",
       "       [4, 3, 3],\n",
       "       [4, 3, 4],\n",
       "       [4, 4, 0],\n",
       "       [4, 4, 1],\n",
       "       [4, 4, 2],\n",
       "       [4, 4, 3],\n",
       "       [4, 4, 4]])"
      ]
     },
     "execution_count": 52,
     "metadata": {},
     "output_type": "execute_result"
    }
   ],
   "source": [
    "test"
   ]
  },
  {
   "cell_type": "code",
   "execution_count": 53,
   "metadata": {},
   "outputs": [],
   "source": [
    "displayPoints(test,test, 0.5)"
   ]
  },
  {
   "cell_type": "code",
   "execution_count": null,
   "metadata": {},
   "outputs": [],
   "source": []
  }
 ],
 "metadata": {
  "kernelspec": {
   "display_name": "Python 3",
   "language": "python",
   "name": "python3"
  },
  "language_info": {
   "codemirror_mode": {
    "name": "ipython",
    "version": 3
   },
   "file_extension": ".py",
   "mimetype": "text/x-python",
   "name": "python",
   "nbconvert_exporter": "python",
   "pygments_lexer": "ipython3",
   "version": "3.6.8"
  }
 },
 "nbformat": 4,
 "nbformat_minor": 2
}
