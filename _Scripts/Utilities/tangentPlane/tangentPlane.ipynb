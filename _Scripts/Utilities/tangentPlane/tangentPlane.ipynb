{
 "cells": [
  {
   "cell_type": "code",
   "execution_count": null,
   "metadata": {},
   "outputs": [],
   "source": [
    "import imageio\n",
    "import glob\n",
    "import re\n",
    "from random import sample, seed\n",
    "import os\n",
    "import matplotlib.pyplot as plt\n",
    "import numpy as np\n",
    "from math import *"
   ]
  },
  {
   "cell_type": "code",
   "execution_count": null,
   "metadata": {},
   "outputs": [],
   "source": [
    "seed(20)\n",
    "if os.name == 'nt': # Windows\n",
    "    system_win = 1\n",
    "else:\n",
    "    system_win = 0"
   ]
  },
  {
   "cell_type": "code",
   "execution_count": null,
   "metadata": {},
   "outputs": [],
   "source": [
    "# This function will read a series of PNG file and convert its content to a 3d  array containing the volume, \n",
    "# Param: filePath: the file path of the PNG files. Each file should be named as 1.png, 2.png, 3.png ... etc. All the png file should \n",
    "#                  be ordered by the their topological order from their original dicom file\n",
    "#        padding: If set to an interger x, then each png image will be copied x times and these slices will all be added\n",
    "#               to the volume. This is used to pad between the slices.\n",
    "# Return: a 3d numpy array representing the volume containing the stack of the png images and their copies.\n",
    "\n",
    "def ReadPointFromPNG(filepath, padding:int):\n",
    "    print(\"---------------\")\n",
    "    print(\"Begin reading points data from PNG files\")\n",
    "    path_list = [im_path for im_path in glob.glob(filepath)]\n",
    "    \n",
    "    if system_win:\n",
    "        path_list_parsed = [re.split('\\\\\\\\|\\.', path) for path in path_list]\n",
    "    else:\n",
    "        path_list_parsed = [re.split('/|\\.', path) for path in path_list]\n",
    "    path_list_parsed_valid = [x for x in path_list_parsed if x[-1] == 'png']\n",
    "    path_list_parsed_valid = sorted(path_list_parsed_valid, key=lambda x:int(x[-2]))\n",
    "    \n",
    "    print(\"There are\", len(path_list_parsed_valid),\"PNG files, now concatinate them into a single 3D array\")\n",
    "    imageData = []\n",
    "    \n",
    "    for path in path_list_parsed_valid:\n",
    "        s = \"\"\n",
    "        if system_win:\n",
    "            s = \"\\\\\"\n",
    "        else:\n",
    "            s = \"/\"\n",
    "        s = s.join(path)\n",
    "        s = s[:-4] + '.png'\n",
    "        image = imageio.imread(s)\n",
    "        \n",
    "        for i in range(padding):\n",
    "            imageData.append(image)\n",
    "            \n",
    "    imageData = np.asarray(imageData)\n",
    "    imageData = np.rot90(imageData, 1, (0, 2))\n",
    "    imageData = np.rot90(imageData, 1, (1, 0))\n",
    "    print(\"Done!\")\n",
    "    return imageData"
   ]
  },
  {
   "cell_type": "code",
   "execution_count": null,
   "metadata": {},
   "outputs": [],
   "source": [
    "# Given a 3d volume, a plane's parameter (a,b,c,d as in ax + by + cz + d = 0) and the center point coordinate (must be on\n",
    "# the plane specified), return the image correspond to the plane, centered at the certer point's location\n",
    "# Param: data_volume: a 3d numpy array containing the volume data\n",
    "#        planeParam: parameters of a plane (a,b,c,d as in ax + by + cz + d = 0)\n",
    "#        centerPoint: the 3d coordinate of a point. The point has to be on the plane. The result image will be centered\n",
    "#                     by this point. \n",
    "#        range: how large the result image will be. The larger the image, the slower the computation\n",
    "\n",
    "def getTangentPlane (data_volume, planeParam, centerPoint, resultRange: int = 100):\n",
    "    \n",
    "    a, b, c, d = planeParam\n",
    "    \n",
    "    if(a * centerPoint[0] + b * centerPoint[1] + c * centerPoint[2] + d != 0):\n",
    "        print(\"error: center point is not on the plane!\")\n",
    "        return\n",
    "    \n",
    "    data_volume = np.asarray(data_volume)\n",
    "    bounds = data_volume.shape\n",
    "\n",
    "    if( a == 0 and b !=0 and c != 0):\n",
    "        u = np.array([0, 0, -d/c]) - np.array([0, -d/b , 0])\n",
    "        u = u / np.linalg.norm(u)\n",
    "    elif( b == 0 and a !=0 and c != 0):\n",
    "        u = np.array([0, 0, -d/c]) - np.array([-d/a, 0, 0])\n",
    "        u = u / np.linalg.norm(u)\n",
    "    elif( c == 0 and a !=0 and b != 0):\n",
    "        u = np.array([0, -d/b, 0]) - np.array([-d/a, 0, 0])\n",
    "        u = u / np.linalg.norm(u)\n",
    "    elif(a == 0 and b == 0):\n",
    "        u = np.array([1, 0, 0])\n",
    "    elif(a == 0 and c == 0):\n",
    "        u = np.array([0, 0, 1])\n",
    "    elif(b == 0 and c == 0):\n",
    "        u = np.array([0, 0, 1])\n",
    "    elif(a == 0 or b == 0 or c == 0):\n",
    "        print(\"plane parameter error! a =\", a, \"b =\", b, \"c =\", c, \"d =\", d)\n",
    "    else:\n",
    "        u = np.array([0, 0, -d/c]) - np.array([1, 1, (-d - a - b)/c])\n",
    "        u = u/np.linalg.norm(u)\n",
    "         \n",
    "    normal = np.array([a, b, c])\n",
    "    normal = normal / np.linalg.norm(normal)\n",
    "    v = np.cross(u, normal)\n",
    "    v = v / np.linalg.norm(v)\n",
    "    \n",
    "    halfDiagnalLength = resultRange\n",
    "    planeImg = np.zeros((halfDiagnalLength*2, halfDiagnalLength*2))\n",
    "    \n",
    "    # filling the 2d Image, this part can be further optimized by using matrix\n",
    "    for x in range(-halfDiagnalLength, halfDiagnalLength):\n",
    "        for y in range(-halfDiagnalLength, halfDiagnalLength):\n",
    "            vectorElem1 = x*u\n",
    "            vectorElem2 = y*v\n",
    "            volumeCor = vectorElem1 + vectorElem2 + centerPoint\n",
    "            #Check boundary\n",
    "            if(volumeCor[0] > 0 and volumeCor[0] < bounds[0] and volumeCor[1] > 0 and volumeCor[1] < bounds[1] and\\\n",
    "              volumeCor[2] > 0 and volumeCor[2] < bounds[2]):\n",
    "                volxelVal = data_volume[floor(volumeCor[0])][floor(volumeCor[1])][floor(volumeCor[2])]\n",
    "                planeImg[x + halfDiagnalLength][y + halfDiagnalLength] = volxelVal\n",
    "        \n",
    "    return planeImg"
   ]
  },
  {
   "cell_type": "code",
   "execution_count": null,
   "metadata": {},
   "outputs": [],
   "source": [
    "filePath = 'mri_image_2016/*.png'\n",
    "data = ReadPointFromPNG(filePath, 2)"
   ]
  },
  {
   "cell_type": "code",
   "execution_count": null,
   "metadata": {},
   "outputs": [],
   "source": [
    "plt.imshow(data[:, :, 100])"
   ]
  },
  {
   "cell_type": "code",
   "execution_count": null,
   "metadata": {},
   "outputs": [],
   "source": [
    "plane = 0.5, -0.5, 1, -100\n",
    "center = np.array([250, 250, 100])"
   ]
  },
  {
   "cell_type": "code",
   "execution_count": null,
   "metadata": {},
   "outputs": [],
   "source": [
    "result = getTangentPlane (data, plane, center)"
   ]
  },
  {
   "cell_type": "code",
   "execution_count": null,
   "metadata": {},
   "outputs": [],
   "source": [
    "plt.imshow(result)"
   ]
  },
  {
   "cell_type": "code",
   "execution_count": null,
   "metadata": {},
   "outputs": [],
   "source": []
  }
 ],
 "metadata": {
  "kernelspec": {
   "display_name": "Python 3",
   "language": "python",
   "name": "python3"
  },
  "language_info": {
   "codemirror_mode": {
    "name": "ipython",
    "version": 3
   },
   "file_extension": ".py",
   "mimetype": "text/x-python",
   "name": "python",
   "nbconvert_exporter": "python",
   "pygments_lexer": "ipython3",
   "version": "3.6.8"
  }
 },
 "nbformat": 4,
 "nbformat_minor": 2
}
