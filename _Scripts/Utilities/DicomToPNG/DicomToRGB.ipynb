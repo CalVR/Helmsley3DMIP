{
 "cells": [
  {
   "cell_type": "code",
   "execution_count": 1,
   "metadata": {},
   "outputs": [
    {
     "name": "stdout",
     "output_type": "stream",
     "text": [
      "106.912 -88.5876\n",
      "After Normalized Depth Max and Min:  195.65640000000002 71.025405\n"
     ]
    }
   ],
   "source": [
    "# ***************************************************************\n",
    "#\n",
    "# Convert all dcm files in ToConvet folder to png and store or \n",
    "# overwrite in the Converted folder with name 0.png, 1.png, etc.\n",
    "#\n",
    "# ***************************************************************\n",
    "\n",
    "import numpy as np\n",
    "from numpy import newaxis, zeros\n",
    "import png\n",
    "import pydicom\n",
    "from os import listdir\n",
    "from os.path import isfile, join\n",
    "\n",
    "input_folder_path = \"./ToConvert\"\n",
    "output_folder_path = \"./Converted\"\n",
    "\n",
    "# all_dcms = [f for f in listdir(input_folder_path) if isfile(join(input_folder_path,f)) if f.endswith(\".dcm\")]\n",
    "all_dcms = [pydicom.read_file(input_folder_path + '/' + f) for f in listdir(input_folder_path) if isfile(join(input_folder_path,f)) if f.endswith(\".dcm\")]\n",
    "\n",
    "all_dcms.sort(key = lambda x: int(x[0x20, 0x32][1]))\n",
    "\n",
    "all_depth = [x[0x20, 0x32][1] for x in all_dcms]\n",
    "print(max(all_depth), min(all_depth))\n",
    "min_depth = -200\n",
    "max_depth = 200\n",
    "normalized_depth = [(x - min_depth)/(max_depth - min_depth)*255 for x in all_depth]\n",
    "print(\"After Normalized Depth Max and Min: \", max(normalized_depth), min(normalized_depth))\n",
    "#print(all_depth)\n",
    "\n",
    "dcm_count = 0\n",
    "\n",
    "if len(all_dcms) == 0:\n",
    "\tprint (\"No dcm files found\")\n",
    "\texit()\n",
    "\n",
    "# print(\" [ Found \" + str(len(all_dcms)) + \" images... ]\")\n",
    "# print(\" [ Started converting... ]\")\n",
    "# print(' ', end='')\n",
    "# print('[', end='')\n",
    "\n",
    "curr_progress = 0\n",
    "prev_progress = 0\n",
    "\n",
    "\n",
    "\n"
   ]
  },
  {
   "cell_type": "code",
   "execution_count": 2,
   "metadata": {},
   "outputs": [
    {
     "name": "stdout",
     "output_type": "stream",
     "text": [
      "\n",
      " [ Done! Converted 116 images ]\n"
     ]
    }
   ],
   "source": [
    "for (dcm, depth) in zip(all_dcms, normalized_depth):\n",
    "\n",
    "    curr_progress = dcm_count * 1.0 / len(all_dcms)\n",
    "\n",
    "    # dcm_path = input_folder_path + \"/\" + dcm\n",
    "    ds = dcm\n",
    "\n",
    "    shape = ds.pixel_array.shape\n",
    "\n",
    "    # Convert to float to avoid overflow or underflow losses.\n",
    "    image_2d = ds.pixel_array.astype(float)\n",
    "\n",
    "    # Rescaling grey scale between 0-255\n",
    "    image_2d_scaled = (np.maximum(image_2d,0) / image_2d.max()) * 255.0\n",
    "\n",
    "    # Convert to uint\n",
    "    image_2d_scaled = np.uint8(image_2d_scaled)\n",
    "    \n",
    "    image_r = image_2d_scaled[:, :, newaxis]\n",
    "    image_gb = zeros((512, 512, 2), dtype=image_r.dtype)\n",
    "    image_rgb = np.c_[image_r, image_gb]\n",
    "    image_rgb[:, :, 1] = depth\n",
    "    image_rgb = np.reshape(image_rgb, (512, 1536))\n",
    "    #print(image_2d[31][31])\n",
    "    #print(image_rgb[31][30*3 + 1])\n",
    "\n",
    "    output_name = output_folder_path + \"/\" + str(dcm_count) + \".png\"\n",
    "\n",
    "    # Write the PNG file\n",
    "    with open(output_name, 'wb') as png_file:\n",
    "        w = png.Writer(shape[1], shape[0] , greyscale=False)\n",
    "        w.write(png_file, image_rgb)\n",
    "\n",
    "    dcm_count += 1\n",
    "\n",
    "    if curr_progress - prev_progress > 0.02:\n",
    "        # print('=', end='')\n",
    "        prev_progress = curr_progress\n",
    "\n",
    "print (\"\\n [ Done! Converted \"+ str(dcm_count) + \" images ]\")\n"
   ]
  },
  {
   "cell_type": "code",
   "execution_count": null,
   "metadata": {},
   "outputs": [],
   "source": []
  }
 ],
 "metadata": {
  "kernelspec": {
   "display_name": "Python 3",
   "language": "python",
   "name": "python3"
  },
  "language_info": {
   "codemirror_mode": {
    "name": "ipython",
    "version": 3
   },
   "file_extension": ".py",
   "mimetype": "text/x-python",
   "name": "python",
   "nbconvert_exporter": "python",
   "pygments_lexer": "ipython3",
   "version": "3.6.8"
  }
 },
 "nbformat": 4,
 "nbformat_minor": 2
}
