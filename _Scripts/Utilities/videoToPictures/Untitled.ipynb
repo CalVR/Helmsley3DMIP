{
 "cells": [
  {
   "cell_type": "code",
   "execution_count": 21,
   "metadata": {},
   "outputs": [
    {
     "name": "stdout",
     "output_type": "stream",
     "text": [
      "<av.VideoFrame #78282, pts=2612037 yuv420p 640x480 at 0x10aa2a458>\n"
     ]
    }
   ],
   "source": [
    "import av\n",
    "\n",
    "container = av.open('/Users/zifengli/Downloads/Jan 2012 colonoscopy video.asf')\n",
    "\n",
    "counter = 0\n",
    "\n",
    "for frame in container.decode(video=0):\n",
    "    \n",
    "    #if(counter > 2000):\n",
    "       # break\n",
    "        \n",
    "    #if(counter%2 == 0):\n",
    "        #frame.to_image().save('frame-%04d.jpg' % frame.index)\n",
    "        \n",
    "    counter += 1\n",
    "\n",
    "print"
   ]
  },
  {
   "cell_type": "code",
   "execution_count": 22,
   "metadata": {},
   "outputs": [
    {
     "data": {
      "text/plain": [
       "78283"
      ]
     },
     "execution_count": 22,
     "metadata": {},
     "output_type": "execute_result"
    }
   ],
   "source": [
    "counter"
   ]
  },
  {
   "cell_type": "code",
   "execution_count": null,
   "metadata": {},
   "outputs": [],
   "source": []
  }
 ],
 "metadata": {
  "kernelspec": {
   "display_name": "Python 3",
   "language": "python",
   "name": "python3"
  },
  "language_info": {
   "codemirror_mode": {
    "name": "ipython",
    "version": 3
   },
   "file_extension": ".py",
   "mimetype": "text/x-python",
   "name": "python",
   "nbconvert_exporter": "python",
   "pygments_lexer": "ipython3",
   "version": "3.6.8"
  }
 },
 "nbformat": 4,
 "nbformat_minor": 2
}
