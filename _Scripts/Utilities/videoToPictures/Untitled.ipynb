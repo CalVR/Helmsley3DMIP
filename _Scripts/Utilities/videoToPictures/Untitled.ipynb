{
 "cells": [
  {
   "cell_type": "code",
   "execution_count": 20,
   "metadata": {},
   "outputs": [],
   "source": [
    "import av\n",
    "\n",
    "container = av.open('/Users/zifengli/Downloads/Jan 2012 colonoscopy video.asf')\n",
    "\n",
    "counter = 0\n",
    "\n",
    "for frame in container.decode(video=0):\n",
    "    \n",
    "    if(counter > 2000):\n",
    "        break\n",
    "        \n",
    "    if(counter%2 == 0):\n",
    "        frame.to_image().save('frame-%04d.jpg' % frame.index)\n",
    "        \n",
    "    counter += 1"
   ]
  },
  {
   "cell_type": "code",
   "execution_count": null,
   "metadata": {},
   "outputs": [],
   "source": []
  }
 ],
 "metadata": {
  "kernelspec": {
   "display_name": "Python 3",
   "language": "python",
   "name": "python3"
  },
  "language_info": {
   "codemirror_mode": {
    "name": "ipython",
    "version": 3
   },
   "file_extension": ".py",
   "mimetype": "text/x-python",
   "name": "python",
   "nbconvert_exporter": "python",
   "pygments_lexer": "ipython3",
   "version": "3.6.8"
  }
 },
 "nbformat": 4,
 "nbformat_minor": 2
}
