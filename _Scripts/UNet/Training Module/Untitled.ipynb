{
 "cells": [
  {
   "cell_type": "code",
   "execution_count": 1,
   "metadata": {},
   "outputs": [],
   "source": [
    "import numpy as np \n",
    "import os\n",
    "import tensorflow as tf   \n",
    "#from tensorflow.keras.models import *\n",
    "from tensorflow.keras.optimizers import * \n",
    "from tensorflow.keras.callbacks import ModelCheckpoint, LearningRateScheduler\n",
    "from tensorflow.keras.layers import LeakyReLU, BatchNormalization, Input\n",
    "from tensorflow.keras.utils import multi_gpu_model\n",
    "from tensorflow.keras.initializers import glorot_uniform "
   ]
  },
  {
   "cell_type": "code",
   "execution_count": 3,
   "metadata": {},
   "outputs": [],
   "source": [
    "def twoConvBlockLeaky(inputs, nChannel:int, kernel_initializer):\n",
    "    conv1 = Conv2D(nChannel, 3, activation = 'linear', padding = 'same', kernel_initializer = 'glorot_normal')(inputs)\n",
    "    conv1 = LeakyReLU(alpha)(conv1)\n",
    "    conv1 = BatchNormalization()(conv1)\n",
    "    \n",
    "    conv2 = Conv2D(nChannel, 3, activation = 'linear', padding = 'same', kernel_initializer = 'glorot_normal')(conv1)\n",
    "    conv2 = LeakyReLU(alpha)(conv2)\n",
    "    conv2 = BatchNormalization()(conv2)\n",
    "    return conv"
   ]
  },
  {
   "cell_type": "code",
   "execution_count": null,
   "metadata": {},
   "outputs": [],
   "source": [
    "def threeConvBlockLeaky(inputs, nChannel:int, kernel_initializer:str):\n",
    "    conv1 = Conv2D(nChannel, 3, activation = 'linear', padding = 'same', kernel_initializer = 'glorot_normal')(inputs)\n",
    "    conv1 = LeakyReLU(alpha)(conv1)\n",
    "    conv1 = BatchNormalization()(conv1)\n",
    "    \n",
    "    conv2 = Conv2D(nChannel, 3, activation = 'linear', padding = 'same', kernel_initializer = 'glorot_normal')(conv1)\n",
    "    conv2 = LeakyReLU(alpha)(conv2)\n",
    "    conv2 = BatchNormalization()(conv2)\n",
    "    \n",
    "    conv3 = Conv2D(nChannel, 3, activation = 'linear', padding = 'same', kernel_initializer = 'glorot_normal')(conv2)\n",
    "    conv3 = LeakyReLU(alpha)(conv3)\n",
    "    conv3 = BatchNormalization()(conv3)\n",
    "    return conv3"
   ]
  },
  {
   "cell_type": "code",
   "execution_count": null,
   "metadata": {},
   "outputs": [],
   "source": [
    "def convConcatTwoConvBlock(inputs, toContac, nChannel:int, kernel_initializer:str):\n",
    "    conv1 = Conv2D(512, 2, activation = 'relu', padding = 'same', kernel_initializer = kernel_initializer)(inputs)\n",
    "    conv1 = BatchNormalization()(conv1)\n",
    "    merge1 = concatenate([toContac,conv1], axis = 3)\n",
    "    \n",
    "    conv2 = Conv2D(512, 3, activation = 'relu', padding = 'same', kernel_initializer = 'glorot_normal')(merge1)\n",
    "    conv2 = BatchNormalization()(conv2)\n",
    "    \n",
    "    conv3 = Conv2D(512, 3, activation = 'relu', padding = 'same', kernel_initializer = 'glorot_normal')(conv2)\n",
    "    conv3 = BatchNormalization()(conv3)\n",
    "    \n",
    "    return conv3"
   ]
  },
  {
   "cell_type": "code",
   "execution_count": 2,
   "metadata": {},
   "outputs": [],
   "source": [
    "def testModel(input_size = (256,256,1)):\n",
    "    inputs = Input(input_size)\n",
    "    \n",
    "    conv1 = twoConvBlockLeaky(inputs, 64, 'glorot_normal')\n",
    "    pool1 = MaxPooling2D(pool_size=(2, 2))(conv1)\n",
    "    \n",
    "    conv2 = twoConvBlockLeaky(inputs, 128, 'glorot_normal')\n",
    "    pool2 = MaxPooling2D(pool_size=(2, 2))(conv2)\n",
    "    \n",
    "    conv3 = twoConvBlockLeaky(inputs, 256, 'glorot_normal')\n",
    "    pool3 = MaxPooling2D(pool_size=(2, 2))(conv3)\n",
    "    \n",
    "    conv4 = twoConvBlockLeaky(inputs, 512, 'glorot_normal')\n",
    "    drop4 = Dropout(0.5)(conv4) \n",
    "    pool4 = MaxPooling2D(pool_size=(2, 2))(conv4)\n",
    "    \n",
    "    \n",
    "    conv5 = twoConvBlockLeaky(inputs, 1024, 'glorot_normal')\n",
    "    drop5 = Dropout(0.5)(conv5) \n",
    "    pool5 = MaxPooling2D(pool_size=(2, 2))(conv5)\n",
    "\n",
    "    "
   ]
  }
 ],
 "metadata": {
  "kernelspec": {
   "display_name": "Python 3",
   "language": "python",
   "name": "python3"
  },
  "language_info": {
   "codemirror_mode": {
    "name": "ipython",
    "version": 3
   },
   "file_extension": ".py",
   "mimetype": "text/x-python",
   "name": "python",
   "nbconvert_exporter": "python",
   "pygments_lexer": "ipython3",
   "version": "3.6.8"
  }
 },
 "nbformat": 4,
 "nbformat_minor": 2
}
