{
 "cells": [
  {
   "cell_type": "code",
   "execution_count": 1,
   "metadata": {},
   "outputs": [
    {
     "name": "stderr",
     "output_type": "stream",
     "text": [
      "Using TensorFlow backend.\n"
     ]
    }
   ],
   "source": [
    "import time\n",
    "import datetime\n",
    "from model import *\n",
    "from data import *\n",
    "from tensorflow.python.client import device_lib\n"
   ]
  },
  {
   "cell_type": "code",
   "execution_count": null,
   "metadata": {},
   "outputs": [
    {
     "name": "stdout",
     "output_type": "stream",
     "text": [
      "[name: \"/device:CPU:0\"\n",
      "device_type: \"CPU\"\n",
      "memory_limit: 268435456\n",
      "locality {\n",
      "}\n",
      "incarnation: 16933031444384781563\n",
      "]\n"
     ]
    },
    {
     "name": "stderr",
     "output_type": "stream",
     "text": [
      "/Users/zifengli/OneDrive/Github/3D_MIP_ML/_Scripts/UNet/Training Module/model.py:205: UserWarning: Update your `Model` call to the Keras 2 API: `Model(outputs=Tensor(\"co..., inputs=Tensor(\"in...)`\n",
      "  model = Model(input = inputs, output = conv10)\n"
     ]
    },
    {
     "name": "stdout",
     "output_type": "stream",
     "text": [
      "Epoch 1/5\n",
      "Found 15 images belonging to 1 classes.\n",
      "Found 15 images belonging to 1 classes.\n",
      "    2/20000 [..............................] - ETA: 47:03:30 - loss: 0.8973 - acc: 0.1810"
     ]
    }
   ],
   "source": [
    "\n",
    "\n",
    "# Check the currently available GPUs\n",
    "print(device_lib.list_local_devices())\n",
    "\n",
    "\n",
    "'''\n",
    "Get time\n",
    "'''\n",
    "now = time.time()\n",
    "time_stamp = datetime.datetime.fromtimestamp(now).strftime('_%m_%d_%H_%M')\n",
    "\n",
    "\n",
    "'''\n",
    "This script train the model using the PNG images and labels, and save the model as hdf5 file\n",
    "'''\n",
    "\n",
    "image_folder = 'mri_rgb_images_30'\n",
    "label_folder = 'mri_rgb_labels_30'\n",
    "save_folder = 'model_checkpoint'\n",
    "model_name = 'colon'\n",
    "\n",
    "model_name = model_name + time_stamp\n",
    "\n",
    "'''\n",
    "Set the parameters and the model type for the training\n",
    "'''\n",
    "data_gen_args = dict(rotation_range=0.2,\n",
    "\t\t\t\t\twidth_shift_range=0.05,\n",
    "\t\t\t\t\theight_shift_range=0.05,\n",
    "\t\t\t\t\tshear_range=0.05,\n",
    "\t\t\t\t\tzoom_range=0.05,\n",
    "\t\t\t\t\thorizontal_flip=True,\n",
    "\t\t\t\t\tfill_mode='nearest')\n",
    "\n",
    "save_path = save_folder + '/' + model_name + '.hdf5'\n",
    "\n",
    "myGene = trainGeneratorRGB(2,'Datasets',image_folder,label_folder,data_gen_args,save_to_dir = None)\n",
    "\n",
    "model = unetRGB()\n",
    "# model = unet_lrelu()\n",
    "\n",
    "model_checkpoint = ModelCheckpoint(save_path, monitor='loss',verbose=1, save_best_only=True)\n",
    "\n",
    "'''\n",
    "The training starts here.\n",
    "'''\n",
    "model.fit_generator(myGene,steps_per_epoch=20000,epochs=5,callbacks=[model_checkpoint])\n",
    "\n",
    "\n",
    "\n",
    "\n",
    "\n",
    "\n",
    "\n"
   ]
  },
  {
   "cell_type": "code",
   "execution_count": null,
   "metadata": {},
   "outputs": [],
   "source": []
  }
 ],
 "metadata": {
  "kernelspec": {
   "display_name": "Python 3",
   "language": "python",
   "name": "python3"
  },
  "language_info": {
   "codemirror_mode": {
    "name": "ipython",
    "version": 3
   },
   "file_extension": ".py",
   "mimetype": "text/x-python",
   "name": "python",
   "nbconvert_exporter": "python",
   "pygments_lexer": "ipython3",
   "version": "3.5.6"
  }
 },
 "nbformat": 4,
 "nbformat_minor": 2
}
